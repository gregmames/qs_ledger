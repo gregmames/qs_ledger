{
 "cells": [
  {
   "cell_type": "markdown",
   "metadata": {},
   "source": [
    "# Apple Health Extractor"
   ]
  },
  {
   "cell_type": "markdown",
   "metadata": {},
   "source": [
    "This code will parse your Apple Health export data, create multiple CSV and do some simple data checks and data analysis. \n",
    "\n",
    "Enjoy! "
   ]
  },
  {
   "cell_type": "markdown",
   "metadata": {},
   "source": [
    "--------"
   ]
  },
  {
   "cell_type": "markdown",
   "metadata": {},
   "source": [
    "## Extract Data and Export to CSVs from Apple Health's Export.xml"
   ]
  },
  {
   "cell_type": "markdown",
   "metadata": {},
   "source": [
    "* Command Line Tool to Process apple health's export.xml file \n",
    "* Create multiple CSV files for each data type. \n",
    "* Original Source: https://github.com/tdda/applehealthdata\n",
    "* Based on the size of your Apple Health Data, this script may take several minutes to complete.\n",
    "\n",
    "**NOTE: Currently there are a few minor errors based on additional data from Apple Health that require some updates.** "
   ]
  },
  {
   "cell_type": "markdown",
   "metadata": {},
   "source": [
    "## Setup and Usage NOTE\n",
    "\n",
    "* Export your data from Apple Health App on your phone. \n",
    "* Unzip export.zip into this directory and rename to data. \n",
    "* Inside your directory there should be a directory and file here: /data/export.xml\n",
    "* Run inside project or in the command line."
   ]
  },
  {
   "cell_type": "code",
   "execution_count": 10,
   "metadata": {},
   "outputs": [
    {
     "name": "stdout",
     "output_type": "stream",
     "text": [
      "Reading data from data/export.xml . . . done\n"
     ]
    },
    {
     "name": "stderr",
     "output_type": "stream",
     "text": [
      "apple-health-data-parser.py:136: DeprecationWarning: This method will be removed in future versions.  Use 'list(elem)' or iteration over elem instead.\n",
      "  self.nodes = self.root.getchildren()\n"
     ]
    },
    {
     "name": "stdout",
     "output_type": "stream",
     "text": [
      "Unexpected node of type ExportDate.\n",
      "\n",
      "Tags:\n",
      "ActivitySummary: 673\n",
      "ExportDate: 1\n",
      "Me: 1\n",
      "Record: 1230834\n",
      "Workout: 239\n",
      "\n",
      "Fields:\n",
      "HKCharacteristicTypeIdentifierBiologicalSex: 1\n",
      "HKCharacteristicTypeIdentifierBloodType: 1\n",
      "HKCharacteristicTypeIdentifierDateOfBirth: 1\n",
      "HKCharacteristicTypeIdentifierFitzpatrickSkinType: 1\n",
      "activeEnergyBurned: 673\n",
      "activeEnergyBurnedGoal: 673\n",
      "activeEnergyBurnedUnit: 673\n",
      "appleExerciseTime: 673\n",
      "appleExerciseTimeGoal: 673\n",
      "appleStandHours: 673\n",
      "appleStandHoursGoal: 673\n",
      "creationDate: 1231073\n",
      "dateComponents: 673\n",
      "device: 1217099\n",
      "duration: 239\n",
      "durationUnit: 239\n",
      "endDate: 1231073\n",
      "sourceName: 1231073\n",
      "sourceVersion: 1226778\n",
      "startDate: 1231073\n",
      "totalDistance: 239\n",
      "totalDistanceUnit: 239\n",
      "totalEnergyBurned: 239\n",
      "totalEnergyBurnedUnit: 239\n",
      "type: 1230834\n",
      "unit: 1219792\n",
      "value: 1230581\n",
      "workoutActivityType: 239\n",
      "\n",
      "Record types:\n",
      "ActiveEnergyBurned: 591394\n",
      "AppleExerciseTime: 21938\n",
      "AppleStandHour: 10786\n",
      "AppleStandTime: 4258\n",
      "AudioExposureEvent: 2\n",
      "BasalEnergyBurned: 169982\n",
      "BodyMass: 313\n",
      "DietaryCalcium: 447\n",
      "DietaryCarbohydrates: 455\n",
      "DietaryCholesterol: 472\n",
      "DietaryEnergyConsumed: 477\n",
      "DietaryFatMonounsaturated: 469\n",
      "DietaryFatPolyunsaturated: 469\n",
      "DietaryFatSaturated: 481\n",
      "DietaryFatTotal: 482\n",
      "DietaryFiber: 453\n",
      "DietaryIron: 452\n",
      "DietaryPotassium: 456\n",
      "DietaryProtein: 449\n",
      "DietarySodium: 466\n",
      "DietarySugar: 452\n",
      "DietaryVitaminC: 449\n",
      "DistanceCycling: 9484\n",
      "DistanceSwimming: 13\n",
      "DistanceWalkingRunning: 143881\n",
      "EnvironmentalAudioExposure: 3399\n",
      "FlightsClimbed: 9351\n",
      "HeadphoneAudioExposure: 36\n",
      "HeartRate: 149373\n",
      "HeartRateVariabilitySDNN: 1163\n",
      "Height: 1\n",
      "MindfulSession: 254\n",
      "RestingHeartRate: 666\n",
      "StepCount: 106900\n",
      "SwimmingStrokeCount: 21\n",
      "VO2Max: 56\n",
      "WalkingHeartRateAverage: 634\n",
      "\n",
      "Opening /Users/gam/MyGit/qs_ledger/apple_health/data/Height.csv for writing\n",
      "Opening /Users/gam/MyGit/qs_ledger/apple_health/data/BodyMass.csv for writing\n",
      "Opening /Users/gam/MyGit/qs_ledger/apple_health/data/HeartRate.csv for writing\n",
      "Opening /Users/gam/MyGit/qs_ledger/apple_health/data/StepCount.csv for writing\n",
      "Opening /Users/gam/MyGit/qs_ledger/apple_health/data/DistanceWalkingRunning.csv for writing\n",
      "Opening /Users/gam/MyGit/qs_ledger/apple_health/data/BasalEnergyBurned.csv for writing\n",
      "Opening /Users/gam/MyGit/qs_ledger/apple_health/data/ActiveEnergyBurned.csv for writing\n",
      "Opening /Users/gam/MyGit/qs_ledger/apple_health/data/FlightsClimbed.csv for writing\n",
      "Opening /Users/gam/MyGit/qs_ledger/apple_health/data/DietaryFatTotal.csv for writing\n",
      "Opening /Users/gam/MyGit/qs_ledger/apple_health/data/DietaryFatPolyunsaturated.csv for writing\n",
      "Opening /Users/gam/MyGit/qs_ledger/apple_health/data/DietaryFatMonounsaturated.csv for writing\n",
      "Opening /Users/gam/MyGit/qs_ledger/apple_health/data/DietaryFatSaturated.csv for writing\n",
      "Opening /Users/gam/MyGit/qs_ledger/apple_health/data/DietaryCholesterol.csv for writing\n",
      "Opening /Users/gam/MyGit/qs_ledger/apple_health/data/DietarySodium.csv for writing\n",
      "Opening /Users/gam/MyGit/qs_ledger/apple_health/data/DietaryCarbohydrates.csv for writing\n",
      "Opening /Users/gam/MyGit/qs_ledger/apple_health/data/DietaryFiber.csv for writing\n",
      "Opening /Users/gam/MyGit/qs_ledger/apple_health/data/DietarySugar.csv for writing\n",
      "Opening /Users/gam/MyGit/qs_ledger/apple_health/data/DietaryEnergyConsumed.csv for writing\n",
      "Opening /Users/gam/MyGit/qs_ledger/apple_health/data/DietaryProtein.csv for writing\n",
      "Opening /Users/gam/MyGit/qs_ledger/apple_health/data/DietaryVitaminC.csv for writing\n",
      "Opening /Users/gam/MyGit/qs_ledger/apple_health/data/DietaryCalcium.csv for writing\n",
      "Opening /Users/gam/MyGit/qs_ledger/apple_health/data/DietaryIron.csv for writing\n",
      "Opening /Users/gam/MyGit/qs_ledger/apple_health/data/DietaryPotassium.csv for writing\n",
      "Opening /Users/gam/MyGit/qs_ledger/apple_health/data/AppleExerciseTime.csv for writing\n",
      "Opening /Users/gam/MyGit/qs_ledger/apple_health/data/DistanceCycling.csv for writing\n",
      "Opening /Users/gam/MyGit/qs_ledger/apple_health/data/DistanceSwimming.csv for writing\n",
      "Opening /Users/gam/MyGit/qs_ledger/apple_health/data/SwimmingStrokeCount.csv for writing\n",
      "Opening /Users/gam/MyGit/qs_ledger/apple_health/data/RestingHeartRate.csv for writing\n",
      "Opening /Users/gam/MyGit/qs_ledger/apple_health/data/VO2Max.csv for writing\n",
      "Opening /Users/gam/MyGit/qs_ledger/apple_health/data/WalkingHeartRateAverage.csv for writing\n",
      "Opening /Users/gam/MyGit/qs_ledger/apple_health/data/EnvironmentalAudioExposure.csv for writing\n",
      "Opening /Users/gam/MyGit/qs_ledger/apple_health/data/HeadphoneAudioExposure.csv for writing\n",
      "Opening /Users/gam/MyGit/qs_ledger/apple_health/data/AppleStandTime.csv for writing\n",
      "Opening /Users/gam/MyGit/qs_ledger/apple_health/data/AppleStandHour.csv for writing\n",
      "Opening /Users/gam/MyGit/qs_ledger/apple_health/data/MindfulSession.csv for writing\n",
      "Opening /Users/gam/MyGit/qs_ledger/apple_health/data/AudioExposureEvent.csv for writing\n",
      "Opening /Users/gam/MyGit/qs_ledger/apple_health/data/HeartRateVariabilitySDNN.csv for writing\n",
      "Opening /Users/gam/MyGit/qs_ledger/apple_health/data/Workout.csv for writing\n",
      "Opening /Users/gam/MyGit/qs_ledger/apple_health/data/ActivitySummary.csv for writing\n",
      "Written Height data.\n",
      "Written BodyMass data.\n",
      "Written HeartRate data.\n",
      "Written StepCount data.\n",
      "Written DistanceWalkingRunning data.\n",
      "Written BasalEnergyBurned data.\n",
      "Written ActiveEnergyBurned data.\n",
      "Written FlightsClimbed data.\n",
      "Written DietaryFatTotal data.\n",
      "Written DietaryFatPolyunsaturated data.\n",
      "Written DietaryFatMonounsaturated data.\n",
      "Written DietaryFatSaturated data.\n",
      "Written DietaryCholesterol data.\n",
      "Written DietarySodium data.\n",
      "Written DietaryCarbohydrates data.\n",
      "Written DietaryFiber data.\n",
      "Written DietarySugar data.\n",
      "Written DietaryEnergyConsumed data.\n",
      "Written DietaryProtein data.\n",
      "Written DietaryVitaminC data.\n",
      "Written DietaryCalcium data.\n",
      "Written DietaryIron data.\n",
      "Written DietaryPotassium data.\n",
      "Written AppleExerciseTime data.\n",
      "Written DistanceCycling data.\n",
      "Written DistanceSwimming data.\n",
      "Written SwimmingStrokeCount data.\n",
      "Written RestingHeartRate data.\n",
      "Written VO2Max data.\n",
      "Written WalkingHeartRateAverage data.\n",
      "Written EnvironmentalAudioExposure data.\n",
      "Written HeadphoneAudioExposure data.\n",
      "Written AppleStandTime data.\n",
      "Written AppleStandHour data.\n",
      "Written MindfulSession data.\n",
      "Written AudioExposureEvent data.\n",
      "Written HeartRateVariabilitySDNN data.\n",
      "Written Workout data.\n",
      "Written ActivitySummary data.\n"
     ]
    }
   ],
   "source": [
    "# %run -i 'apple-health-data-parser' 'export.xml' \n",
    "%run -i 'apple-health-data-parser' 'data/export.xml' "
   ]
  },
  {
   "cell_type": "markdown",
   "metadata": {},
   "source": [
    "-----"
   ]
  },
  {
   "cell_type": "markdown",
   "metadata": {},
   "source": [
    "# Apple Health Data Check and Simple Data Analysis"
   ]
  },
  {
   "cell_type": "code",
   "execution_count": 3,
   "metadata": {},
   "outputs": [],
   "source": [
    "import numpy as np\n",
    "import pandas as pd\n",
    "import glob"
   ]
  },
  {
   "cell_type": "markdown",
   "metadata": {},
   "source": [
    "----"
   ]
  },
  {
   "cell_type": "markdown",
   "metadata": {},
   "source": [
    "# Weight"
   ]
  },
  {
   "cell_type": "code",
   "execution_count": 4,
   "metadata": {},
   "outputs": [],
   "source": [
    "weight = pd.read_csv(\"data/BodyMass.csv\")"
   ]
  },
  {
   "cell_type": "code",
   "execution_count": 5,
   "metadata": {},
   "outputs": [
    {
     "data": {
      "text/html": [
       "<div>\n",
       "<style scoped>\n",
       "    .dataframe tbody tr th:only-of-type {\n",
       "        vertical-align: middle;\n",
       "    }\n",
       "\n",
       "    .dataframe tbody tr th {\n",
       "        vertical-align: top;\n",
       "    }\n",
       "\n",
       "    .dataframe thead th {\n",
       "        text-align: right;\n",
       "    }\n",
       "</style>\n",
       "<table border=\"1\" class=\"dataframe\">\n",
       "  <thead>\n",
       "    <tr style=\"text-align: right;\">\n",
       "      <th></th>\n",
       "      <th>sourceName</th>\n",
       "      <th>sourceVersion</th>\n",
       "      <th>device</th>\n",
       "      <th>type</th>\n",
       "      <th>unit</th>\n",
       "      <th>creationDate</th>\n",
       "      <th>startDate</th>\n",
       "      <th>endDate</th>\n",
       "      <th>value</th>\n",
       "    </tr>\n",
       "  </thead>\n",
       "  <tbody>\n",
       "    <tr>\n",
       "      <th>304</th>\n",
       "      <td>MyFitnessPal</td>\n",
       "      <td>28552</td>\n",
       "      <td>NaN</td>\n",
       "      <td>BodyMass</td>\n",
       "      <td>lb</td>\n",
       "      <td>2020-03-11 08:19:26 -0400</td>\n",
       "      <td>2020-03-10 08:19:00 -0400</td>\n",
       "      <td>2020-03-10 08:19:00 -0400</td>\n",
       "      <td>204.2</td>\n",
       "    </tr>\n",
       "    <tr>\n",
       "      <th>305</th>\n",
       "      <td>MyFitnessPal</td>\n",
       "      <td>28552</td>\n",
       "      <td>NaN</td>\n",
       "      <td>BodyMass</td>\n",
       "      <td>lb</td>\n",
       "      <td>2020-03-11 21:11:20 -0400</td>\n",
       "      <td>2020-03-11 21:11:00 -0400</td>\n",
       "      <td>2020-03-11 21:11:00 -0400</td>\n",
       "      <td>204.1</td>\n",
       "    </tr>\n",
       "    <tr>\n",
       "      <th>306</th>\n",
       "      <td>Health</td>\n",
       "      <td>13.3.1</td>\n",
       "      <td>NaN</td>\n",
       "      <td>BodyMass</td>\n",
       "      <td>lb</td>\n",
       "      <td>2020-03-12 05:48:05 -0400</td>\n",
       "      <td>2020-03-12 05:47:00 -0400</td>\n",
       "      <td>2020-03-12 05:47:00 -0400</td>\n",
       "      <td>203.5</td>\n",
       "    </tr>\n",
       "    <tr>\n",
       "      <th>307</th>\n",
       "      <td>MyFitnessPal</td>\n",
       "      <td>28552</td>\n",
       "      <td>NaN</td>\n",
       "      <td>BodyMass</td>\n",
       "      <td>lb</td>\n",
       "      <td>2020-03-12 21:51:16 -0400</td>\n",
       "      <td>2020-03-12 21:51:00 -0400</td>\n",
       "      <td>2020-03-12 21:51:00 -0400</td>\n",
       "      <td>203.5</td>\n",
       "    </tr>\n",
       "    <tr>\n",
       "      <th>308</th>\n",
       "      <td>Health</td>\n",
       "      <td>13.3.1</td>\n",
       "      <td>NaN</td>\n",
       "      <td>BodyMass</td>\n",
       "      <td>lb</td>\n",
       "      <td>2020-03-13 08:45:08 -0400</td>\n",
       "      <td>2020-03-13 05:45:00 -0400</td>\n",
       "      <td>2020-03-13 05:45:00 -0400</td>\n",
       "      <td>204.1</td>\n",
       "    </tr>\n",
       "  </tbody>\n",
       "</table>\n",
       "</div>"
      ],
      "text/plain": [
       "       sourceName sourceVersion  device      type unit  \\\n",
       "304  MyFitnessPal         28552     NaN  BodyMass   lb   \n",
       "305  MyFitnessPal         28552     NaN  BodyMass   lb   \n",
       "306        Health        13.3.1     NaN  BodyMass   lb   \n",
       "307  MyFitnessPal         28552     NaN  BodyMass   lb   \n",
       "308        Health        13.3.1     NaN  BodyMass   lb   \n",
       "\n",
       "                  creationDate                  startDate  \\\n",
       "304  2020-03-11 08:19:26 -0400  2020-03-10 08:19:00 -0400   \n",
       "305  2020-03-11 21:11:20 -0400  2020-03-11 21:11:00 -0400   \n",
       "306  2020-03-12 05:48:05 -0400  2020-03-12 05:47:00 -0400   \n",
       "307  2020-03-12 21:51:16 -0400  2020-03-12 21:51:00 -0400   \n",
       "308  2020-03-13 08:45:08 -0400  2020-03-13 05:45:00 -0400   \n",
       "\n",
       "                       endDate  value  \n",
       "304  2020-03-10 08:19:00 -0400  204.2  \n",
       "305  2020-03-11 21:11:00 -0400  204.1  \n",
       "306  2020-03-12 05:47:00 -0400  203.5  \n",
       "307  2020-03-12 21:51:00 -0400  203.5  \n",
       "308  2020-03-13 05:45:00 -0400  204.1  "
      ]
     },
     "execution_count": 5,
     "metadata": {},
     "output_type": "execute_result"
    }
   ],
   "source": [
    "weight.tail()"
   ]
  },
  {
   "cell_type": "code",
   "execution_count": 5,
   "metadata": {},
   "outputs": [
    {
     "data": {
      "text/html": [
       "<div>\n",
       "<style scoped>\n",
       "    .dataframe tbody tr th:only-of-type {\n",
       "        vertical-align: middle;\n",
       "    }\n",
       "\n",
       "    .dataframe tbody tr th {\n",
       "        vertical-align: top;\n",
       "    }\n",
       "\n",
       "    .dataframe thead th {\n",
       "        text-align: right;\n",
       "    }\n",
       "</style>\n",
       "<table border=\"1\" class=\"dataframe\">\n",
       "  <thead>\n",
       "    <tr style=\"text-align: right;\">\n",
       "      <th></th>\n",
       "      <th>device</th>\n",
       "      <th>value</th>\n",
       "    </tr>\n",
       "  </thead>\n",
       "  <tbody>\n",
       "    <tr>\n",
       "      <th>count</th>\n",
       "      <td>0.0</td>\n",
       "      <td>309.000000</td>\n",
       "    </tr>\n",
       "    <tr>\n",
       "      <th>mean</th>\n",
       "      <td>NaN</td>\n",
       "      <td>193.038511</td>\n",
       "    </tr>\n",
       "    <tr>\n",
       "      <th>std</th>\n",
       "      <td>NaN</td>\n",
       "      <td>9.005642</td>\n",
       "    </tr>\n",
       "    <tr>\n",
       "      <th>min</th>\n",
       "      <td>NaN</td>\n",
       "      <td>179.500000</td>\n",
       "    </tr>\n",
       "    <tr>\n",
       "      <th>25%</th>\n",
       "      <td>NaN</td>\n",
       "      <td>183.600000</td>\n",
       "    </tr>\n",
       "    <tr>\n",
       "      <th>50%</th>\n",
       "      <td>NaN</td>\n",
       "      <td>195.500000</td>\n",
       "    </tr>\n",
       "    <tr>\n",
       "      <th>75%</th>\n",
       "      <td>NaN</td>\n",
       "      <td>200.000000</td>\n",
       "    </tr>\n",
       "    <tr>\n",
       "      <th>max</th>\n",
       "      <td>NaN</td>\n",
       "      <td>209.200000</td>\n",
       "    </tr>\n",
       "  </tbody>\n",
       "</table>\n",
       "</div>"
      ],
      "text/plain": [
       "       device       value\n",
       "count     0.0  309.000000\n",
       "mean      NaN  193.038511\n",
       "std       NaN    9.005642\n",
       "min       NaN  179.500000\n",
       "25%       NaN  183.600000\n",
       "50%       NaN  195.500000\n",
       "75%       NaN  200.000000\n",
       "max       NaN  209.200000"
      ]
     },
     "execution_count": 5,
     "metadata": {},
     "output_type": "execute_result"
    }
   ],
   "source": [
    "weight.describe()"
   ]
  },
  {
   "cell_type": "markdown",
   "metadata": {},
   "source": [
    "----"
   ]
  },
  {
   "cell_type": "markdown",
   "metadata": {},
   "source": [
    "## Steps"
   ]
  },
  {
   "cell_type": "code",
   "execution_count": 6,
   "metadata": {},
   "outputs": [],
   "source": [
    "steps = pd.read_csv(\"data/StepCount.csv\")"
   ]
  },
  {
   "cell_type": "code",
   "execution_count": 7,
   "metadata": {},
   "outputs": [
    {
     "data": {
      "text/plain": [
       "105845"
      ]
     },
     "execution_count": 7,
     "metadata": {},
     "output_type": "execute_result"
    }
   ],
   "source": [
    "len(steps)"
   ]
  },
  {
   "cell_type": "code",
   "execution_count": 8,
   "metadata": {},
   "outputs": [
    {
     "data": {
      "text/plain": [
       "Index(['sourceName', 'sourceVersion', 'device', 'type', 'unit', 'creationDate',\n",
       "       'startDate', 'endDate', 'value'],\n",
       "      dtype='object')"
      ]
     },
     "execution_count": 8,
     "metadata": {},
     "output_type": "execute_result"
    }
   ],
   "source": [
    "steps.columns"
   ]
  },
  {
   "cell_type": "code",
   "execution_count": 9,
   "metadata": {},
   "outputs": [
    {
     "data": {
      "text/html": [
       "<div>\n",
       "<style scoped>\n",
       "    .dataframe tbody tr th:only-of-type {\n",
       "        vertical-align: middle;\n",
       "    }\n",
       "\n",
       "    .dataframe tbody tr th {\n",
       "        vertical-align: top;\n",
       "    }\n",
       "\n",
       "    .dataframe thead th {\n",
       "        text-align: right;\n",
       "    }\n",
       "</style>\n",
       "<table border=\"1\" class=\"dataframe\">\n",
       "  <thead>\n",
       "    <tr style=\"text-align: right;\">\n",
       "      <th></th>\n",
       "      <th>value</th>\n",
       "    </tr>\n",
       "  </thead>\n",
       "  <tbody>\n",
       "    <tr>\n",
       "      <th>count</th>\n",
       "      <td>105845.000000</td>\n",
       "    </tr>\n",
       "    <tr>\n",
       "      <th>mean</th>\n",
       "      <td>85.740838</td>\n",
       "    </tr>\n",
       "    <tr>\n",
       "      <th>std</th>\n",
       "      <td>159.318891</td>\n",
       "    </tr>\n",
       "    <tr>\n",
       "      <th>min</th>\n",
       "      <td>1.000000</td>\n",
       "    </tr>\n",
       "    <tr>\n",
       "      <th>25%</th>\n",
       "      <td>17.000000</td>\n",
       "    </tr>\n",
       "    <tr>\n",
       "      <th>50%</th>\n",
       "      <td>39.000000</td>\n",
       "    </tr>\n",
       "    <tr>\n",
       "      <th>75%</th>\n",
       "      <td>85.000000</td>\n",
       "    </tr>\n",
       "    <tr>\n",
       "      <th>max</th>\n",
       "      <td>6192.000000</td>\n",
       "    </tr>\n",
       "  </tbody>\n",
       "</table>\n",
       "</div>"
      ],
      "text/plain": [
       "               value\n",
       "count  105845.000000\n",
       "mean       85.740838\n",
       "std       159.318891\n",
       "min         1.000000\n",
       "25%        17.000000\n",
       "50%        39.000000\n",
       "75%        85.000000\n",
       "max      6192.000000"
      ]
     },
     "execution_count": 9,
     "metadata": {},
     "output_type": "execute_result"
    }
   ],
   "source": [
    "steps.describe()"
   ]
  },
  {
   "cell_type": "code",
   "execution_count": 10,
   "metadata": {},
   "outputs": [
    {
     "data": {
      "text/html": [
       "<div>\n",
       "<style scoped>\n",
       "    .dataframe tbody tr th:only-of-type {\n",
       "        vertical-align: middle;\n",
       "    }\n",
       "\n",
       "    .dataframe tbody tr th {\n",
       "        vertical-align: top;\n",
       "    }\n",
       "\n",
       "    .dataframe thead th {\n",
       "        text-align: right;\n",
       "    }\n",
       "</style>\n",
       "<table border=\"1\" class=\"dataframe\">\n",
       "  <thead>\n",
       "    <tr style=\"text-align: right;\">\n",
       "      <th></th>\n",
       "      <th>sourceName</th>\n",
       "      <th>sourceVersion</th>\n",
       "      <th>device</th>\n",
       "      <th>type</th>\n",
       "      <th>unit</th>\n",
       "      <th>creationDate</th>\n",
       "      <th>startDate</th>\n",
       "      <th>endDate</th>\n",
       "      <th>value</th>\n",
       "    </tr>\n",
       "  </thead>\n",
       "  <tbody>\n",
       "    <tr>\n",
       "      <th>105840</th>\n",
       "      <td>Greg Ames’s iPhone</td>\n",
       "      <td>13.3.1</td>\n",
       "      <td>&lt;&lt;HKDevice: 0x282c3c780&gt;, name:iPhone, manufac...</td>\n",
       "      <td>StepCount</td>\n",
       "      <td>count</td>\n",
       "      <td>2020-04-09 07:09:22 -0400</td>\n",
       "      <td>2020-04-09 06:57:11 -0400</td>\n",
       "      <td>2020-04-09 07:06:06 -0400</td>\n",
       "      <td>229</td>\n",
       "    </tr>\n",
       "    <tr>\n",
       "      <th>105841</th>\n",
       "      <td>Greg’s Apple Watch</td>\n",
       "      <td>6.1.3</td>\n",
       "      <td>&lt;&lt;HKDevice: 0x282c3c820&gt;, name:Apple Watch, ma...</td>\n",
       "      <td>StepCount</td>\n",
       "      <td>count</td>\n",
       "      <td>2020-04-09 07:08:33 -0400</td>\n",
       "      <td>2020-04-09 06:57:38 -0400</td>\n",
       "      <td>2020-04-09 07:06:10 -0400</td>\n",
       "      <td>175</td>\n",
       "    </tr>\n",
       "    <tr>\n",
       "      <th>105842</th>\n",
       "      <td>Greg’s Apple Watch</td>\n",
       "      <td>6.1.3</td>\n",
       "      <td>&lt;&lt;HKDevice: 0x282c3c8c0&gt;, name:Apple Watch, ma...</td>\n",
       "      <td>StepCount</td>\n",
       "      <td>count</td>\n",
       "      <td>2020-04-09 08:20:29 -0400</td>\n",
       "      <td>2020-04-09 08:07:53 -0400</td>\n",
       "      <td>2020-04-09 08:17:32 -0400</td>\n",
       "      <td>99</td>\n",
       "    </tr>\n",
       "    <tr>\n",
       "      <th>105843</th>\n",
       "      <td>Greg’s Apple Watch</td>\n",
       "      <td>6.1.3</td>\n",
       "      <td>&lt;&lt;HKDevice: 0x282c3c960&gt;, name:Apple Watch, ma...</td>\n",
       "      <td>StepCount</td>\n",
       "      <td>count</td>\n",
       "      <td>2020-04-09 08:28:14 -0400</td>\n",
       "      <td>2020-04-09 08:18:08 -0400</td>\n",
       "      <td>2020-04-09 08:23:41 -0400</td>\n",
       "      <td>62</td>\n",
       "    </tr>\n",
       "    <tr>\n",
       "      <th>105844</th>\n",
       "      <td>Greg’s Apple Watch</td>\n",
       "      <td>6.1.3</td>\n",
       "      <td>&lt;&lt;HKDevice: 0x282c3ca00&gt;, name:Apple Watch, ma...</td>\n",
       "      <td>StepCount</td>\n",
       "      <td>count</td>\n",
       "      <td>2020-04-09 08:43:09 -0400</td>\n",
       "      <td>2020-04-09 08:32:31 -0400</td>\n",
       "      <td>2020-04-09 08:32:33 -0400</td>\n",
       "      <td>1</td>\n",
       "    </tr>\n",
       "  </tbody>\n",
       "</table>\n",
       "</div>"
      ],
      "text/plain": [
       "                sourceName sourceVersion  \\\n",
       "105840  Greg Ames’s iPhone        13.3.1   \n",
       "105841  Greg’s Apple Watch         6.1.3   \n",
       "105842  Greg’s Apple Watch         6.1.3   \n",
       "105843  Greg’s Apple Watch         6.1.3   \n",
       "105844  Greg’s Apple Watch         6.1.3   \n",
       "\n",
       "                                                   device       type   unit  \\\n",
       "105840  <<HKDevice: 0x282c3c780>, name:iPhone, manufac...  StepCount  count   \n",
       "105841  <<HKDevice: 0x282c3c820>, name:Apple Watch, ma...  StepCount  count   \n",
       "105842  <<HKDevice: 0x282c3c8c0>, name:Apple Watch, ma...  StepCount  count   \n",
       "105843  <<HKDevice: 0x282c3c960>, name:Apple Watch, ma...  StepCount  count   \n",
       "105844  <<HKDevice: 0x282c3ca00>, name:Apple Watch, ma...  StepCount  count   \n",
       "\n",
       "                     creationDate                  startDate  \\\n",
       "105840  2020-04-09 07:09:22 -0400  2020-04-09 06:57:11 -0400   \n",
       "105841  2020-04-09 07:08:33 -0400  2020-04-09 06:57:38 -0400   \n",
       "105842  2020-04-09 08:20:29 -0400  2020-04-09 08:07:53 -0400   \n",
       "105843  2020-04-09 08:28:14 -0400  2020-04-09 08:18:08 -0400   \n",
       "105844  2020-04-09 08:43:09 -0400  2020-04-09 08:32:31 -0400   \n",
       "\n",
       "                          endDate  value  \n",
       "105840  2020-04-09 07:06:06 -0400    229  \n",
       "105841  2020-04-09 07:06:10 -0400    175  \n",
       "105842  2020-04-09 08:17:32 -0400     99  \n",
       "105843  2020-04-09 08:23:41 -0400     62  \n",
       "105844  2020-04-09 08:32:33 -0400      1  "
      ]
     },
     "execution_count": 10,
     "metadata": {},
     "output_type": "execute_result"
    }
   ],
   "source": [
    "steps.tail()"
   ]
  },
  {
   "cell_type": "code",
   "execution_count": 11,
   "metadata": {},
   "outputs": [
    {
     "data": {
      "text/plain": [
       "9075239"
      ]
     },
     "execution_count": 11,
     "metadata": {},
     "output_type": "execute_result"
    }
   ],
   "source": [
    "# total all-time steps\n",
    "steps.value.sum()"
   ]
  },
  {
   "cell_type": "markdown",
   "metadata": {},
   "source": [
    "-------"
   ]
  },
  {
   "cell_type": "markdown",
   "metadata": {},
   "source": [
    "## Stand Count"
   ]
  },
  {
   "cell_type": "code",
   "execution_count": 12,
   "metadata": {},
   "outputs": [],
   "source": [
    "stand = pd.read_csv(\"data/AppleStandHour.csv\")"
   ]
  },
  {
   "cell_type": "code",
   "execution_count": 13,
   "metadata": {},
   "outputs": [
    {
     "data": {
      "text/plain": [
       "10701"
      ]
     },
     "execution_count": 13,
     "metadata": {},
     "output_type": "execute_result"
    }
   ],
   "source": [
    "len(stand)"
   ]
  },
  {
   "cell_type": "code",
   "execution_count": 14,
   "metadata": {},
   "outputs": [
    {
     "data": {
      "text/plain": [
       "Index(['sourceName', 'sourceVersion', 'device', 'type', 'unit', 'creationDate',\n",
       "       'startDate', 'endDate', 'value'],\n",
       "      dtype='object')"
      ]
     },
     "execution_count": 14,
     "metadata": {},
     "output_type": "execute_result"
    }
   ],
   "source": [
    "stand.columns"
   ]
  },
  {
   "cell_type": "code",
   "execution_count": 15,
   "metadata": {},
   "outputs": [
    {
     "data": {
      "text/html": [
       "<div>\n",
       "<style scoped>\n",
       "    .dataframe tbody tr th:only-of-type {\n",
       "        vertical-align: middle;\n",
       "    }\n",
       "\n",
       "    .dataframe tbody tr th {\n",
       "        vertical-align: top;\n",
       "    }\n",
       "\n",
       "    .dataframe thead th {\n",
       "        text-align: right;\n",
       "    }\n",
       "</style>\n",
       "<table border=\"1\" class=\"dataframe\">\n",
       "  <thead>\n",
       "    <tr style=\"text-align: right;\">\n",
       "      <th></th>\n",
       "      <th>unit</th>\n",
       "    </tr>\n",
       "  </thead>\n",
       "  <tbody>\n",
       "    <tr>\n",
       "      <th>count</th>\n",
       "      <td>0.0</td>\n",
       "    </tr>\n",
       "    <tr>\n",
       "      <th>mean</th>\n",
       "      <td>NaN</td>\n",
       "    </tr>\n",
       "    <tr>\n",
       "      <th>std</th>\n",
       "      <td>NaN</td>\n",
       "    </tr>\n",
       "    <tr>\n",
       "      <th>min</th>\n",
       "      <td>NaN</td>\n",
       "    </tr>\n",
       "    <tr>\n",
       "      <th>25%</th>\n",
       "      <td>NaN</td>\n",
       "    </tr>\n",
       "    <tr>\n",
       "      <th>50%</th>\n",
       "      <td>NaN</td>\n",
       "    </tr>\n",
       "    <tr>\n",
       "      <th>75%</th>\n",
       "      <td>NaN</td>\n",
       "    </tr>\n",
       "    <tr>\n",
       "      <th>max</th>\n",
       "      <td>NaN</td>\n",
       "    </tr>\n",
       "  </tbody>\n",
       "</table>\n",
       "</div>"
      ],
      "text/plain": [
       "       unit\n",
       "count   0.0\n",
       "mean    NaN\n",
       "std     NaN\n",
       "min     NaN\n",
       "25%     NaN\n",
       "50%     NaN\n",
       "75%     NaN\n",
       "max     NaN"
      ]
     },
     "execution_count": 15,
     "metadata": {},
     "output_type": "execute_result"
    }
   ],
   "source": [
    "stand.describe()"
   ]
  },
  {
   "cell_type": "code",
   "execution_count": 16,
   "metadata": {},
   "outputs": [
    {
     "data": {
      "text/html": [
       "<div>\n",
       "<style scoped>\n",
       "    .dataframe tbody tr th:only-of-type {\n",
       "        vertical-align: middle;\n",
       "    }\n",
       "\n",
       "    .dataframe tbody tr th {\n",
       "        vertical-align: top;\n",
       "    }\n",
       "\n",
       "    .dataframe thead th {\n",
       "        text-align: right;\n",
       "    }\n",
       "</style>\n",
       "<table border=\"1\" class=\"dataframe\">\n",
       "  <thead>\n",
       "    <tr style=\"text-align: right;\">\n",
       "      <th></th>\n",
       "      <th>sourceName</th>\n",
       "      <th>sourceVersion</th>\n",
       "      <th>device</th>\n",
       "      <th>type</th>\n",
       "      <th>unit</th>\n",
       "      <th>creationDate</th>\n",
       "      <th>startDate</th>\n",
       "      <th>endDate</th>\n",
       "      <th>value</th>\n",
       "    </tr>\n",
       "  </thead>\n",
       "  <tbody>\n",
       "    <tr>\n",
       "      <th>10696</th>\n",
       "      <td>Greg’s Apple Watch</td>\n",
       "      <td>6.1.3</td>\n",
       "      <td>&lt;&lt;HKDevice: 0x282eb0730&gt;, name:Apple Watch, ma...</td>\n",
       "      <td>AppleStandHour</td>\n",
       "      <td>NaN</td>\n",
       "      <td>2020-04-08 21:03:57 -0400</td>\n",
       "      <td>2020-04-08 21:00:00 -0400</td>\n",
       "      <td>2020-04-08 22:00:00 -0400</td>\n",
       "      <td>HKCategoryValueAppleStandHourStood</td>\n",
       "    </tr>\n",
       "    <tr>\n",
       "      <th>10697</th>\n",
       "      <td>Greg’s Apple Watch</td>\n",
       "      <td>6.1.3</td>\n",
       "      <td>&lt;&lt;HKDevice: 0x282eb07d0&gt;, name:Apple Watch, ma...</td>\n",
       "      <td>AppleStandHour</td>\n",
       "      <td>NaN</td>\n",
       "      <td>2020-04-08 22:13:13 -0400</td>\n",
       "      <td>2020-04-08 22:00:00 -0400</td>\n",
       "      <td>2020-04-08 23:00:00 -0400</td>\n",
       "      <td>HKCategoryValueAppleStandHourStood</td>\n",
       "    </tr>\n",
       "    <tr>\n",
       "      <th>10698</th>\n",
       "      <td>Greg’s Apple Watch</td>\n",
       "      <td>6.1.3</td>\n",
       "      <td>&lt;&lt;HKDevice: 0x282eb0870&gt;, name:Apple Watch, ma...</td>\n",
       "      <td>AppleStandHour</td>\n",
       "      <td>NaN</td>\n",
       "      <td>2020-04-09 06:58:07 -0400</td>\n",
       "      <td>2020-04-09 06:00:00 -0400</td>\n",
       "      <td>2020-04-09 07:00:00 -0400</td>\n",
       "      <td>HKCategoryValueAppleStandHourStood</td>\n",
       "    </tr>\n",
       "    <tr>\n",
       "      <th>10699</th>\n",
       "      <td>Greg’s Apple Watch</td>\n",
       "      <td>6.1.3</td>\n",
       "      <td>&lt;&lt;HKDevice: 0x282eb0910&gt;, name:Apple Watch, ma...</td>\n",
       "      <td>AppleStandHour</td>\n",
       "      <td>NaN</td>\n",
       "      <td>2020-04-09 07:01:47 -0400</td>\n",
       "      <td>2020-04-09 07:00:00 -0400</td>\n",
       "      <td>2020-04-09 08:00:00 -0400</td>\n",
       "      <td>HKCategoryValueAppleStandHourStood</td>\n",
       "    </tr>\n",
       "    <tr>\n",
       "      <th>10700</th>\n",
       "      <td>Greg’s Apple Watch</td>\n",
       "      <td>6.1.3</td>\n",
       "      <td>&lt;&lt;HKDevice: 0x282eb09b0&gt;, name:Apple Watch, ma...</td>\n",
       "      <td>AppleStandHour</td>\n",
       "      <td>NaN</td>\n",
       "      <td>2020-04-09 08:07:05 -0400</td>\n",
       "      <td>2020-04-09 08:00:00 -0400</td>\n",
       "      <td>2020-04-09 09:00:00 -0400</td>\n",
       "      <td>HKCategoryValueAppleStandHourStood</td>\n",
       "    </tr>\n",
       "  </tbody>\n",
       "</table>\n",
       "</div>"
      ],
      "text/plain": [
       "               sourceName sourceVersion  \\\n",
       "10696  Greg’s Apple Watch         6.1.3   \n",
       "10697  Greg’s Apple Watch         6.1.3   \n",
       "10698  Greg’s Apple Watch         6.1.3   \n",
       "10699  Greg’s Apple Watch         6.1.3   \n",
       "10700  Greg’s Apple Watch         6.1.3   \n",
       "\n",
       "                                                  device            type  \\\n",
       "10696  <<HKDevice: 0x282eb0730>, name:Apple Watch, ma...  AppleStandHour   \n",
       "10697  <<HKDevice: 0x282eb07d0>, name:Apple Watch, ma...  AppleStandHour   \n",
       "10698  <<HKDevice: 0x282eb0870>, name:Apple Watch, ma...  AppleStandHour   \n",
       "10699  <<HKDevice: 0x282eb0910>, name:Apple Watch, ma...  AppleStandHour   \n",
       "10700  <<HKDevice: 0x282eb09b0>, name:Apple Watch, ma...  AppleStandHour   \n",
       "\n",
       "       unit               creationDate                  startDate  \\\n",
       "10696   NaN  2020-04-08 21:03:57 -0400  2020-04-08 21:00:00 -0400   \n",
       "10697   NaN  2020-04-08 22:13:13 -0400  2020-04-08 22:00:00 -0400   \n",
       "10698   NaN  2020-04-09 06:58:07 -0400  2020-04-09 06:00:00 -0400   \n",
       "10699   NaN  2020-04-09 07:01:47 -0400  2020-04-09 07:00:00 -0400   \n",
       "10700   NaN  2020-04-09 08:07:05 -0400  2020-04-09 08:00:00 -0400   \n",
       "\n",
       "                         endDate                               value  \n",
       "10696  2020-04-08 22:00:00 -0400  HKCategoryValueAppleStandHourStood  \n",
       "10697  2020-04-08 23:00:00 -0400  HKCategoryValueAppleStandHourStood  \n",
       "10698  2020-04-09 07:00:00 -0400  HKCategoryValueAppleStandHourStood  \n",
       "10699  2020-04-09 08:00:00 -0400  HKCategoryValueAppleStandHourStood  \n",
       "10700  2020-04-09 09:00:00 -0400  HKCategoryValueAppleStandHourStood  "
      ]
     },
     "execution_count": 16,
     "metadata": {},
     "output_type": "execute_result"
    }
   ],
   "source": [
    "stand.tail()"
   ]
  },
  {
   "cell_type": "markdown",
   "metadata": {},
   "source": [
    "------"
   ]
  },
  {
   "cell_type": "markdown",
   "metadata": {},
   "source": [
    "## Resting Heart Rate (HR)"
   ]
  },
  {
   "cell_type": "code",
   "execution_count": 17,
   "metadata": {},
   "outputs": [],
   "source": [
    "restingHR = pd.read_csv(\"data/RestingHeartRate.csv\")"
   ]
  },
  {
   "cell_type": "code",
   "execution_count": 18,
   "metadata": {},
   "outputs": [
    {
     "data": {
      "text/plain": [
       "661"
      ]
     },
     "execution_count": 18,
     "metadata": {},
     "output_type": "execute_result"
    }
   ],
   "source": [
    "len(restingHR)"
   ]
  },
  {
   "cell_type": "code",
   "execution_count": 19,
   "metadata": {},
   "outputs": [
    {
     "data": {
      "text/html": [
       "<div>\n",
       "<style scoped>\n",
       "    .dataframe tbody tr th:only-of-type {\n",
       "        vertical-align: middle;\n",
       "    }\n",
       "\n",
       "    .dataframe tbody tr th {\n",
       "        vertical-align: top;\n",
       "    }\n",
       "\n",
       "    .dataframe thead th {\n",
       "        text-align: right;\n",
       "    }\n",
       "</style>\n",
       "<table border=\"1\" class=\"dataframe\">\n",
       "  <thead>\n",
       "    <tr style=\"text-align: right;\">\n",
       "      <th></th>\n",
       "      <th>device</th>\n",
       "      <th>value</th>\n",
       "    </tr>\n",
       "  </thead>\n",
       "  <tbody>\n",
       "    <tr>\n",
       "      <th>count</th>\n",
       "      <td>0.0</td>\n",
       "      <td>661.000000</td>\n",
       "    </tr>\n",
       "    <tr>\n",
       "      <th>mean</th>\n",
       "      <td>NaN</td>\n",
       "      <td>58.735250</td>\n",
       "    </tr>\n",
       "    <tr>\n",
       "      <th>std</th>\n",
       "      <td>NaN</td>\n",
       "      <td>3.740578</td>\n",
       "    </tr>\n",
       "    <tr>\n",
       "      <th>min</th>\n",
       "      <td>NaN</td>\n",
       "      <td>49.000000</td>\n",
       "    </tr>\n",
       "    <tr>\n",
       "      <th>25%</th>\n",
       "      <td>NaN</td>\n",
       "      <td>56.000000</td>\n",
       "    </tr>\n",
       "    <tr>\n",
       "      <th>50%</th>\n",
       "      <td>NaN</td>\n",
       "      <td>59.000000</td>\n",
       "    </tr>\n",
       "    <tr>\n",
       "      <th>75%</th>\n",
       "      <td>NaN</td>\n",
       "      <td>61.000000</td>\n",
       "    </tr>\n",
       "    <tr>\n",
       "      <th>max</th>\n",
       "      <td>NaN</td>\n",
       "      <td>76.000000</td>\n",
       "    </tr>\n",
       "  </tbody>\n",
       "</table>\n",
       "</div>"
      ],
      "text/plain": [
       "       device       value\n",
       "count     0.0  661.000000\n",
       "mean      NaN   58.735250\n",
       "std       NaN    3.740578\n",
       "min       NaN   49.000000\n",
       "25%       NaN   56.000000\n",
       "50%       NaN   59.000000\n",
       "75%       NaN   61.000000\n",
       "max       NaN   76.000000"
      ]
     },
     "execution_count": 19,
     "metadata": {},
     "output_type": "execute_result"
    }
   ],
   "source": [
    "restingHR.describe()"
   ]
  },
  {
   "cell_type": "markdown",
   "metadata": {},
   "source": [
    "---"
   ]
  },
  {
   "cell_type": "markdown",
   "metadata": {},
   "source": [
    "## Walking Heart Rate (HR) Average"
   ]
  },
  {
   "cell_type": "code",
   "execution_count": 20,
   "metadata": {},
   "outputs": [],
   "source": [
    "walkingHR = pd.read_csv(\"data/WalkingHeartRateAverage.csv\")"
   ]
  },
  {
   "cell_type": "code",
   "execution_count": 21,
   "metadata": {},
   "outputs": [
    {
     "data": {
      "text/plain": [
       "628"
      ]
     },
     "execution_count": 21,
     "metadata": {},
     "output_type": "execute_result"
    }
   ],
   "source": [
    "len(walkingHR)"
   ]
  },
  {
   "cell_type": "code",
   "execution_count": 22,
   "metadata": {},
   "outputs": [
    {
     "data": {
      "text/html": [
       "<div>\n",
       "<style scoped>\n",
       "    .dataframe tbody tr th:only-of-type {\n",
       "        vertical-align: middle;\n",
       "    }\n",
       "\n",
       "    .dataframe tbody tr th {\n",
       "        vertical-align: top;\n",
       "    }\n",
       "\n",
       "    .dataframe thead th {\n",
       "        text-align: right;\n",
       "    }\n",
       "</style>\n",
       "<table border=\"1\" class=\"dataframe\">\n",
       "  <thead>\n",
       "    <tr style=\"text-align: right;\">\n",
       "      <th></th>\n",
       "      <th>device</th>\n",
       "      <th>value</th>\n",
       "    </tr>\n",
       "  </thead>\n",
       "  <tbody>\n",
       "    <tr>\n",
       "      <th>count</th>\n",
       "      <td>0.0</td>\n",
       "      <td>628.000000</td>\n",
       "    </tr>\n",
       "    <tr>\n",
       "      <th>mean</th>\n",
       "      <td>NaN</td>\n",
       "      <td>83.103503</td>\n",
       "    </tr>\n",
       "    <tr>\n",
       "      <th>std</th>\n",
       "      <td>NaN</td>\n",
       "      <td>10.313837</td>\n",
       "    </tr>\n",
       "    <tr>\n",
       "      <th>min</th>\n",
       "      <td>NaN</td>\n",
       "      <td>59.000000</td>\n",
       "    </tr>\n",
       "    <tr>\n",
       "      <th>25%</th>\n",
       "      <td>NaN</td>\n",
       "      <td>76.500000</td>\n",
       "    </tr>\n",
       "    <tr>\n",
       "      <th>50%</th>\n",
       "      <td>NaN</td>\n",
       "      <td>81.250000</td>\n",
       "    </tr>\n",
       "    <tr>\n",
       "      <th>75%</th>\n",
       "      <td>NaN</td>\n",
       "      <td>87.000000</td>\n",
       "    </tr>\n",
       "    <tr>\n",
       "      <th>max</th>\n",
       "      <td>NaN</td>\n",
       "      <td>137.500000</td>\n",
       "    </tr>\n",
       "  </tbody>\n",
       "</table>\n",
       "</div>"
      ],
      "text/plain": [
       "       device       value\n",
       "count     0.0  628.000000\n",
       "mean      NaN   83.103503\n",
       "std       NaN   10.313837\n",
       "min       NaN   59.000000\n",
       "25%       NaN   76.500000\n",
       "50%       NaN   81.250000\n",
       "75%       NaN   87.000000\n",
       "max       NaN  137.500000"
      ]
     },
     "execution_count": 22,
     "metadata": {},
     "output_type": "execute_result"
    }
   ],
   "source": [
    "walkingHR.describe()"
   ]
  },
  {
   "cell_type": "markdown",
   "metadata": {},
   "source": [
    "---"
   ]
  },
  {
   "cell_type": "markdown",
   "metadata": {},
   "source": [
    "## Heart Rate Variability (HRV)"
   ]
  },
  {
   "cell_type": "code",
   "execution_count": 23,
   "metadata": {},
   "outputs": [],
   "source": [
    "hrv = pd.read_csv(\"data/HeartRateVariabilitySDNN.csv\")"
   ]
  },
  {
   "cell_type": "code",
   "execution_count": 24,
   "metadata": {},
   "outputs": [
    {
     "data": {
      "text/plain": [
       "1151"
      ]
     },
     "execution_count": 24,
     "metadata": {},
     "output_type": "execute_result"
    }
   ],
   "source": [
    "len(hrv)"
   ]
  },
  {
   "cell_type": "code",
   "execution_count": 25,
   "metadata": {},
   "outputs": [
    {
     "data": {
      "text/plain": [
       "Index(['sourceName', 'sourceVersion', 'device', 'type', 'unit', 'creationDate',\n",
       "       'startDate', 'endDate', 'value'],\n",
       "      dtype='object')"
      ]
     },
     "execution_count": 25,
     "metadata": {},
     "output_type": "execute_result"
    }
   ],
   "source": [
    "hrv.columns"
   ]
  },
  {
   "cell_type": "code",
   "execution_count": 26,
   "metadata": {},
   "outputs": [
    {
     "data": {
      "text/html": [
       "<div>\n",
       "<style scoped>\n",
       "    .dataframe tbody tr th:only-of-type {\n",
       "        vertical-align: middle;\n",
       "    }\n",
       "\n",
       "    .dataframe tbody tr th {\n",
       "        vertical-align: top;\n",
       "    }\n",
       "\n",
       "    .dataframe thead th {\n",
       "        text-align: right;\n",
       "    }\n",
       "</style>\n",
       "<table border=\"1\" class=\"dataframe\">\n",
       "  <thead>\n",
       "    <tr style=\"text-align: right;\">\n",
       "      <th></th>\n",
       "      <th>value</th>\n",
       "    </tr>\n",
       "  </thead>\n",
       "  <tbody>\n",
       "    <tr>\n",
       "      <th>count</th>\n",
       "      <td>1151.000000</td>\n",
       "    </tr>\n",
       "    <tr>\n",
       "      <th>mean</th>\n",
       "      <td>37.705395</td>\n",
       "    </tr>\n",
       "    <tr>\n",
       "      <th>std</th>\n",
       "      <td>15.626666</td>\n",
       "    </tr>\n",
       "    <tr>\n",
       "      <th>min</th>\n",
       "      <td>7.984360</td>\n",
       "    </tr>\n",
       "    <tr>\n",
       "      <th>25%</th>\n",
       "      <td>26.574450</td>\n",
       "    </tr>\n",
       "    <tr>\n",
       "      <th>50%</th>\n",
       "      <td>35.025900</td>\n",
       "    </tr>\n",
       "    <tr>\n",
       "      <th>75%</th>\n",
       "      <td>45.593300</td>\n",
       "    </tr>\n",
       "    <tr>\n",
       "      <th>max</th>\n",
       "      <td>123.408000</td>\n",
       "    </tr>\n",
       "  </tbody>\n",
       "</table>\n",
       "</div>"
      ],
      "text/plain": [
       "             value\n",
       "count  1151.000000\n",
       "mean     37.705395\n",
       "std      15.626666\n",
       "min       7.984360\n",
       "25%      26.574450\n",
       "50%      35.025900\n",
       "75%      45.593300\n",
       "max     123.408000"
      ]
     },
     "execution_count": 26,
     "metadata": {},
     "output_type": "execute_result"
    }
   ],
   "source": [
    "hrv.describe()"
   ]
  },
  {
   "cell_type": "code",
   "execution_count": 27,
   "metadata": {},
   "outputs": [
    {
     "data": {
      "text/html": [
       "<div>\n",
       "<style scoped>\n",
       "    .dataframe tbody tr th:only-of-type {\n",
       "        vertical-align: middle;\n",
       "    }\n",
       "\n",
       "    .dataframe tbody tr th {\n",
       "        vertical-align: top;\n",
       "    }\n",
       "\n",
       "    .dataframe thead th {\n",
       "        text-align: right;\n",
       "    }\n",
       "</style>\n",
       "<table border=\"1\" class=\"dataframe\">\n",
       "  <thead>\n",
       "    <tr style=\"text-align: right;\">\n",
       "      <th></th>\n",
       "      <th>sourceName</th>\n",
       "      <th>sourceVersion</th>\n",
       "      <th>device</th>\n",
       "      <th>type</th>\n",
       "      <th>unit</th>\n",
       "      <th>creationDate</th>\n",
       "      <th>startDate</th>\n",
       "      <th>endDate</th>\n",
       "      <th>value</th>\n",
       "    </tr>\n",
       "  </thead>\n",
       "  <tbody>\n",
       "    <tr>\n",
       "      <th>1146</th>\n",
       "      <td>Greg’s Apple Watch</td>\n",
       "      <td>6.1.3</td>\n",
       "      <td>&lt;&lt;HKDevice: 0x282f5cff0&gt;, name:Apple Watch, ma...</td>\n",
       "      <td>HeartRateVariabilitySDNN</td>\n",
       "      <td>ms</td>\n",
       "      <td>2020-04-08 14:24:29 -0400</td>\n",
       "      <td>2020-04-08 14:23:24 -0400</td>\n",
       "      <td>2020-04-08 14:24:29 -0400</td>\n",
       "      <td>42.5272</td>\n",
       "    </tr>\n",
       "    <tr>\n",
       "      <th>1147</th>\n",
       "      <td>Greg’s Apple Watch</td>\n",
       "      <td>6.1.3</td>\n",
       "      <td>&lt;&lt;HKDevice: 0x282f5d090&gt;, name:Apple Watch, ma...</td>\n",
       "      <td>HeartRateVariabilitySDNN</td>\n",
       "      <td>ms</td>\n",
       "      <td>2020-04-08 14:27:41 -0400</td>\n",
       "      <td>2020-04-08 14:26:36 -0400</td>\n",
       "      <td>2020-04-08 14:27:41 -0400</td>\n",
       "      <td>54.4237</td>\n",
       "    </tr>\n",
       "    <tr>\n",
       "      <th>1148</th>\n",
       "      <td>Greg’s Apple Watch</td>\n",
       "      <td>6.1.3</td>\n",
       "      <td>&lt;&lt;HKDevice: 0x282f5d130&gt;, name:Apple Watch, ma...</td>\n",
       "      <td>HeartRateVariabilitySDNN</td>\n",
       "      <td>ms</td>\n",
       "      <td>2020-04-08 22:27:06 -0400</td>\n",
       "      <td>2020-04-08 22:26:01 -0400</td>\n",
       "      <td>2020-04-08 22:27:06 -0400</td>\n",
       "      <td>28.7913</td>\n",
       "    </tr>\n",
       "    <tr>\n",
       "      <th>1149</th>\n",
       "      <td>Greg’s Apple Watch</td>\n",
       "      <td>6.1.3</td>\n",
       "      <td>&lt;&lt;HKDevice: 0x282f5d1d0&gt;, name:Apple Watch, ma...</td>\n",
       "      <td>HeartRateVariabilitySDNN</td>\n",
       "      <td>ms</td>\n",
       "      <td>2020-04-09 07:08:32 -0400</td>\n",
       "      <td>2020-04-09 07:07:31 -0400</td>\n",
       "      <td>2020-04-09 07:08:32 -0400</td>\n",
       "      <td>51.2957</td>\n",
       "    </tr>\n",
       "    <tr>\n",
       "      <th>1150</th>\n",
       "      <td>Greg’s Apple Watch</td>\n",
       "      <td>6.1.3</td>\n",
       "      <td>&lt;&lt;HKDevice: 0x282f5d270&gt;, name:Apple Watch, ma...</td>\n",
       "      <td>HeartRateVariabilitySDNN</td>\n",
       "      <td>ms</td>\n",
       "      <td>2020-04-09 09:03:20 -0400</td>\n",
       "      <td>2020-04-09 09:02:20 -0400</td>\n",
       "      <td>2020-04-09 09:03:20 -0400</td>\n",
       "      <td>42.0119</td>\n",
       "    </tr>\n",
       "  </tbody>\n",
       "</table>\n",
       "</div>"
      ],
      "text/plain": [
       "              sourceName sourceVersion  \\\n",
       "1146  Greg’s Apple Watch         6.1.3   \n",
       "1147  Greg’s Apple Watch         6.1.3   \n",
       "1148  Greg’s Apple Watch         6.1.3   \n",
       "1149  Greg’s Apple Watch         6.1.3   \n",
       "1150  Greg’s Apple Watch         6.1.3   \n",
       "\n",
       "                                                 device  \\\n",
       "1146  <<HKDevice: 0x282f5cff0>, name:Apple Watch, ma...   \n",
       "1147  <<HKDevice: 0x282f5d090>, name:Apple Watch, ma...   \n",
       "1148  <<HKDevice: 0x282f5d130>, name:Apple Watch, ma...   \n",
       "1149  <<HKDevice: 0x282f5d1d0>, name:Apple Watch, ma...   \n",
       "1150  <<HKDevice: 0x282f5d270>, name:Apple Watch, ma...   \n",
       "\n",
       "                          type unit               creationDate  \\\n",
       "1146  HeartRateVariabilitySDNN   ms  2020-04-08 14:24:29 -0400   \n",
       "1147  HeartRateVariabilitySDNN   ms  2020-04-08 14:27:41 -0400   \n",
       "1148  HeartRateVariabilitySDNN   ms  2020-04-08 22:27:06 -0400   \n",
       "1149  HeartRateVariabilitySDNN   ms  2020-04-09 07:08:32 -0400   \n",
       "1150  HeartRateVariabilitySDNN   ms  2020-04-09 09:03:20 -0400   \n",
       "\n",
       "                      startDate                    endDate    value  \n",
       "1146  2020-04-08 14:23:24 -0400  2020-04-08 14:24:29 -0400  42.5272  \n",
       "1147  2020-04-08 14:26:36 -0400  2020-04-08 14:27:41 -0400  54.4237  \n",
       "1148  2020-04-08 22:26:01 -0400  2020-04-08 22:27:06 -0400  28.7913  \n",
       "1149  2020-04-09 07:07:31 -0400  2020-04-09 07:08:32 -0400  51.2957  \n",
       "1150  2020-04-09 09:02:20 -0400  2020-04-09 09:03:20 -0400  42.0119  "
      ]
     },
     "execution_count": 27,
     "metadata": {},
     "output_type": "execute_result"
    }
   ],
   "source": [
    "hrv.tail()"
   ]
  },
  {
   "cell_type": "markdown",
   "metadata": {},
   "source": [
    "-------"
   ]
  },
  {
   "cell_type": "markdown",
   "metadata": {},
   "source": [
    "## VO2 Max"
   ]
  },
  {
   "cell_type": "code",
   "execution_count": 28,
   "metadata": {},
   "outputs": [],
   "source": [
    "vo2max = pd.read_csv(\"data/VO2Max.csv\")"
   ]
  },
  {
   "cell_type": "code",
   "execution_count": 29,
   "metadata": {},
   "outputs": [
    {
     "data": {
      "text/plain": [
       "52"
      ]
     },
     "execution_count": 29,
     "metadata": {},
     "output_type": "execute_result"
    }
   ],
   "source": [
    "len(vo2max)"
   ]
  },
  {
   "cell_type": "code",
   "execution_count": 30,
   "metadata": {},
   "outputs": [
    {
     "data": {
      "text/html": [
       "<div>\n",
       "<style scoped>\n",
       "    .dataframe tbody tr th:only-of-type {\n",
       "        vertical-align: middle;\n",
       "    }\n",
       "\n",
       "    .dataframe tbody tr th {\n",
       "        vertical-align: top;\n",
       "    }\n",
       "\n",
       "    .dataframe thead th {\n",
       "        text-align: right;\n",
       "    }\n",
       "</style>\n",
       "<table border=\"1\" class=\"dataframe\">\n",
       "  <thead>\n",
       "    <tr style=\"text-align: right;\">\n",
       "      <th></th>\n",
       "      <th>sourceVersion</th>\n",
       "      <th>device</th>\n",
       "      <th>value</th>\n",
       "    </tr>\n",
       "  </thead>\n",
       "  <tbody>\n",
       "    <tr>\n",
       "      <th>count</th>\n",
       "      <td>0.0</td>\n",
       "      <td>0.0</td>\n",
       "      <td>52.000000</td>\n",
       "    </tr>\n",
       "    <tr>\n",
       "      <th>mean</th>\n",
       "      <td>NaN</td>\n",
       "      <td>NaN</td>\n",
       "      <td>38.380846</td>\n",
       "    </tr>\n",
       "    <tr>\n",
       "      <th>std</th>\n",
       "      <td>NaN</td>\n",
       "      <td>NaN</td>\n",
       "      <td>2.717470</td>\n",
       "    </tr>\n",
       "    <tr>\n",
       "      <th>min</th>\n",
       "      <td>NaN</td>\n",
       "      <td>NaN</td>\n",
       "      <td>33.527100</td>\n",
       "    </tr>\n",
       "    <tr>\n",
       "      <th>25%</th>\n",
       "      <td>NaN</td>\n",
       "      <td>NaN</td>\n",
       "      <td>36.815725</td>\n",
       "    </tr>\n",
       "    <tr>\n",
       "      <th>50%</th>\n",
       "      <td>NaN</td>\n",
       "      <td>NaN</td>\n",
       "      <td>38.041750</td>\n",
       "    </tr>\n",
       "    <tr>\n",
       "      <th>75%</th>\n",
       "      <td>NaN</td>\n",
       "      <td>NaN</td>\n",
       "      <td>40.507325</td>\n",
       "    </tr>\n",
       "    <tr>\n",
       "      <th>max</th>\n",
       "      <td>NaN</td>\n",
       "      <td>NaN</td>\n",
       "      <td>43.781600</td>\n",
       "    </tr>\n",
       "  </tbody>\n",
       "</table>\n",
       "</div>"
      ],
      "text/plain": [
       "       sourceVersion  device      value\n",
       "count            0.0     0.0  52.000000\n",
       "mean             NaN     NaN  38.380846\n",
       "std              NaN     NaN   2.717470\n",
       "min              NaN     NaN  33.527100\n",
       "25%              NaN     NaN  36.815725\n",
       "50%              NaN     NaN  38.041750\n",
       "75%              NaN     NaN  40.507325\n",
       "max              NaN     NaN  43.781600"
      ]
     },
     "execution_count": 30,
     "metadata": {},
     "output_type": "execute_result"
    }
   ],
   "source": [
    "vo2max.describe()"
   ]
  },
  {
   "cell_type": "markdown",
   "metadata": {},
   "source": [
    "----"
   ]
  },
  {
   "cell_type": "markdown",
   "metadata": {},
   "source": [
    "## Blood Pressure"
   ]
  },
  {
   "cell_type": "code",
   "execution_count": 31,
   "metadata": {},
   "outputs": [
    {
     "ename": "FileNotFoundError",
     "evalue": "[Errno 2] File data/BloodPressureDiastolic.csv does not exist: 'data/BloodPressureDiastolic.csv'",
     "output_type": "error",
     "traceback": [
      "\u001b[0;31m---------------------------------------------------------------------------\u001b[0m",
      "\u001b[0;31mFileNotFoundError\u001b[0m                         Traceback (most recent call last)",
      "\u001b[0;32m~/MyGit/qs_ledger/apple_health/apple-health-data-parser.py\u001b[0m in \u001b[0;36m<module>\u001b[0;34m\u001b[0m\n\u001b[0;32m----> 1\u001b[0;31m \u001b[0mdiastolic\u001b[0m \u001b[0;34m=\u001b[0m \u001b[0mpd\u001b[0m\u001b[0;34m.\u001b[0m\u001b[0mread_csv\u001b[0m\u001b[0;34m(\u001b[0m\u001b[0;34m\"data/BloodPressureDiastolic.csv\"\u001b[0m\u001b[0;34m)\u001b[0m\u001b[0;34m\u001b[0m\u001b[0;34m\u001b[0m\u001b[0m\n\u001b[0m\u001b[1;32m      2\u001b[0m \u001b[0msystolic\u001b[0m \u001b[0;34m=\u001b[0m \u001b[0mpd\u001b[0m\u001b[0;34m.\u001b[0m\u001b[0mread_csv\u001b[0m\u001b[0;34m(\u001b[0m\u001b[0;34m\"data/BloodPressureSystolic.csv\"\u001b[0m\u001b[0;34m)\u001b[0m\u001b[0;34m\u001b[0m\u001b[0;34m\u001b[0m\u001b[0m\n",
      "\u001b[0;32m~/anaconda3/lib/python3.7/site-packages/pandas/io/parsers.py\u001b[0m in \u001b[0;36mparser_f\u001b[0;34m(filepath_or_buffer, sep, delimiter, header, names, index_col, usecols, squeeze, prefix, mangle_dupe_cols, dtype, engine, converters, true_values, false_values, skipinitialspace, skiprows, skipfooter, nrows, na_values, keep_default_na, na_filter, verbose, skip_blank_lines, parse_dates, infer_datetime_format, keep_date_col, date_parser, dayfirst, cache_dates, iterator, chunksize, compression, thousands, decimal, lineterminator, quotechar, quoting, doublequote, escapechar, comment, encoding, dialect, error_bad_lines, warn_bad_lines, delim_whitespace, low_memory, memory_map, float_precision)\u001b[0m\n\u001b[1;32m    674\u001b[0m         )\n\u001b[1;32m    675\u001b[0m \u001b[0;34m\u001b[0m\u001b[0m\n\u001b[0;32m--> 676\u001b[0;31m         \u001b[0;32mreturn\u001b[0m \u001b[0m_read\u001b[0m\u001b[0;34m(\u001b[0m\u001b[0mfilepath_or_buffer\u001b[0m\u001b[0;34m,\u001b[0m \u001b[0mkwds\u001b[0m\u001b[0;34m)\u001b[0m\u001b[0;34m\u001b[0m\u001b[0;34m\u001b[0m\u001b[0m\n\u001b[0m\u001b[1;32m    677\u001b[0m \u001b[0;34m\u001b[0m\u001b[0m\n\u001b[1;32m    678\u001b[0m     \u001b[0mparser_f\u001b[0m\u001b[0;34m.\u001b[0m\u001b[0m__name__\u001b[0m \u001b[0;34m=\u001b[0m \u001b[0mname\u001b[0m\u001b[0;34m\u001b[0m\u001b[0;34m\u001b[0m\u001b[0m\n",
      "\u001b[0;32m~/anaconda3/lib/python3.7/site-packages/pandas/io/parsers.py\u001b[0m in \u001b[0;36m_read\u001b[0;34m(filepath_or_buffer, kwds)\u001b[0m\n\u001b[1;32m    446\u001b[0m \u001b[0;34m\u001b[0m\u001b[0m\n\u001b[1;32m    447\u001b[0m     \u001b[0;31m# Create the parser.\u001b[0m\u001b[0;34m\u001b[0m\u001b[0;34m\u001b[0m\u001b[0;34m\u001b[0m\u001b[0m\n\u001b[0;32m--> 448\u001b[0;31m     \u001b[0mparser\u001b[0m \u001b[0;34m=\u001b[0m \u001b[0mTextFileReader\u001b[0m\u001b[0;34m(\u001b[0m\u001b[0mfp_or_buf\u001b[0m\u001b[0;34m,\u001b[0m \u001b[0;34m**\u001b[0m\u001b[0mkwds\u001b[0m\u001b[0;34m)\u001b[0m\u001b[0;34m\u001b[0m\u001b[0;34m\u001b[0m\u001b[0m\n\u001b[0m\u001b[1;32m    449\u001b[0m \u001b[0;34m\u001b[0m\u001b[0m\n\u001b[1;32m    450\u001b[0m     \u001b[0;32mif\u001b[0m \u001b[0mchunksize\u001b[0m \u001b[0;32mor\u001b[0m \u001b[0miterator\u001b[0m\u001b[0;34m:\u001b[0m\u001b[0;34m\u001b[0m\u001b[0;34m\u001b[0m\u001b[0m\n",
      "\u001b[0;32m~/anaconda3/lib/python3.7/site-packages/pandas/io/parsers.py\u001b[0m in \u001b[0;36m__init__\u001b[0;34m(self, f, engine, **kwds)\u001b[0m\n\u001b[1;32m    878\u001b[0m             \u001b[0mself\u001b[0m\u001b[0;34m.\u001b[0m\u001b[0moptions\u001b[0m\u001b[0;34m[\u001b[0m\u001b[0;34m\"has_index_names\"\u001b[0m\u001b[0;34m]\u001b[0m \u001b[0;34m=\u001b[0m \u001b[0mkwds\u001b[0m\u001b[0;34m[\u001b[0m\u001b[0;34m\"has_index_names\"\u001b[0m\u001b[0;34m]\u001b[0m\u001b[0;34m\u001b[0m\u001b[0;34m\u001b[0m\u001b[0m\n\u001b[1;32m    879\u001b[0m \u001b[0;34m\u001b[0m\u001b[0m\n\u001b[0;32m--> 880\u001b[0;31m         \u001b[0mself\u001b[0m\u001b[0;34m.\u001b[0m\u001b[0m_make_engine\u001b[0m\u001b[0;34m(\u001b[0m\u001b[0mself\u001b[0m\u001b[0;34m.\u001b[0m\u001b[0mengine\u001b[0m\u001b[0;34m)\u001b[0m\u001b[0;34m\u001b[0m\u001b[0;34m\u001b[0m\u001b[0m\n\u001b[0m\u001b[1;32m    881\u001b[0m \u001b[0;34m\u001b[0m\u001b[0m\n\u001b[1;32m    882\u001b[0m     \u001b[0;32mdef\u001b[0m \u001b[0mclose\u001b[0m\u001b[0;34m(\u001b[0m\u001b[0mself\u001b[0m\u001b[0;34m)\u001b[0m\u001b[0;34m:\u001b[0m\u001b[0;34m\u001b[0m\u001b[0;34m\u001b[0m\u001b[0m\n",
      "\u001b[0;32m~/anaconda3/lib/python3.7/site-packages/pandas/io/parsers.py\u001b[0m in \u001b[0;36m_make_engine\u001b[0;34m(self, engine)\u001b[0m\n\u001b[1;32m   1112\u001b[0m     \u001b[0;32mdef\u001b[0m \u001b[0m_make_engine\u001b[0m\u001b[0;34m(\u001b[0m\u001b[0mself\u001b[0m\u001b[0;34m,\u001b[0m \u001b[0mengine\u001b[0m\u001b[0;34m=\u001b[0m\u001b[0;34m\"c\"\u001b[0m\u001b[0;34m)\u001b[0m\u001b[0;34m:\u001b[0m\u001b[0;34m\u001b[0m\u001b[0;34m\u001b[0m\u001b[0m\n\u001b[1;32m   1113\u001b[0m         \u001b[0;32mif\u001b[0m \u001b[0mengine\u001b[0m \u001b[0;34m==\u001b[0m \u001b[0;34m\"c\"\u001b[0m\u001b[0;34m:\u001b[0m\u001b[0;34m\u001b[0m\u001b[0;34m\u001b[0m\u001b[0m\n\u001b[0;32m-> 1114\u001b[0;31m             \u001b[0mself\u001b[0m\u001b[0;34m.\u001b[0m\u001b[0m_engine\u001b[0m \u001b[0;34m=\u001b[0m \u001b[0mCParserWrapper\u001b[0m\u001b[0;34m(\u001b[0m\u001b[0mself\u001b[0m\u001b[0;34m.\u001b[0m\u001b[0mf\u001b[0m\u001b[0;34m,\u001b[0m \u001b[0;34m**\u001b[0m\u001b[0mself\u001b[0m\u001b[0;34m.\u001b[0m\u001b[0moptions\u001b[0m\u001b[0;34m)\u001b[0m\u001b[0;34m\u001b[0m\u001b[0;34m\u001b[0m\u001b[0m\n\u001b[0m\u001b[1;32m   1115\u001b[0m         \u001b[0;32melse\u001b[0m\u001b[0;34m:\u001b[0m\u001b[0;34m\u001b[0m\u001b[0;34m\u001b[0m\u001b[0m\n\u001b[1;32m   1116\u001b[0m             \u001b[0;32mif\u001b[0m \u001b[0mengine\u001b[0m \u001b[0;34m==\u001b[0m \u001b[0;34m\"python\"\u001b[0m\u001b[0;34m:\u001b[0m\u001b[0;34m\u001b[0m\u001b[0;34m\u001b[0m\u001b[0m\n",
      "\u001b[0;32m~/anaconda3/lib/python3.7/site-packages/pandas/io/parsers.py\u001b[0m in \u001b[0;36m__init__\u001b[0;34m(self, src, **kwds)\u001b[0m\n\u001b[1;32m   1889\u001b[0m         \u001b[0mkwds\u001b[0m\u001b[0;34m[\u001b[0m\u001b[0;34m\"usecols\"\u001b[0m\u001b[0;34m]\u001b[0m \u001b[0;34m=\u001b[0m \u001b[0mself\u001b[0m\u001b[0;34m.\u001b[0m\u001b[0musecols\u001b[0m\u001b[0;34m\u001b[0m\u001b[0;34m\u001b[0m\u001b[0m\n\u001b[1;32m   1890\u001b[0m \u001b[0;34m\u001b[0m\u001b[0m\n\u001b[0;32m-> 1891\u001b[0;31m         \u001b[0mself\u001b[0m\u001b[0;34m.\u001b[0m\u001b[0m_reader\u001b[0m \u001b[0;34m=\u001b[0m \u001b[0mparsers\u001b[0m\u001b[0;34m.\u001b[0m\u001b[0mTextReader\u001b[0m\u001b[0;34m(\u001b[0m\u001b[0msrc\u001b[0m\u001b[0;34m,\u001b[0m \u001b[0;34m**\u001b[0m\u001b[0mkwds\u001b[0m\u001b[0;34m)\u001b[0m\u001b[0;34m\u001b[0m\u001b[0;34m\u001b[0m\u001b[0m\n\u001b[0m\u001b[1;32m   1892\u001b[0m         \u001b[0mself\u001b[0m\u001b[0;34m.\u001b[0m\u001b[0munnamed_cols\u001b[0m \u001b[0;34m=\u001b[0m \u001b[0mself\u001b[0m\u001b[0;34m.\u001b[0m\u001b[0m_reader\u001b[0m\u001b[0;34m.\u001b[0m\u001b[0munnamed_cols\u001b[0m\u001b[0;34m\u001b[0m\u001b[0;34m\u001b[0m\u001b[0m\n\u001b[1;32m   1893\u001b[0m \u001b[0;34m\u001b[0m\u001b[0m\n",
      "\u001b[0;32mpandas/_libs/parsers.pyx\u001b[0m in \u001b[0;36mpandas._libs.parsers.TextReader.__cinit__\u001b[0;34m()\u001b[0m\n",
      "\u001b[0;32mpandas/_libs/parsers.pyx\u001b[0m in \u001b[0;36mpandas._libs.parsers.TextReader._setup_parser_source\u001b[0;34m()\u001b[0m\n",
      "\u001b[0;31mFileNotFoundError\u001b[0m: [Errno 2] File data/BloodPressureDiastolic.csv does not exist: 'data/BloodPressureDiastolic.csv'"
     ]
    }
   ],
   "source": [
    "diastolic = pd.read_csv(\"data/BloodPressureDiastolic.csv\")\n",
    "systolic = pd.read_csv(\"data/BloodPressureSystolic.csv\")"
   ]
  },
  {
   "cell_type": "code",
   "execution_count": null,
   "metadata": {},
   "outputs": [],
   "source": [
    "diastolic.describe()"
   ]
  },
  {
   "cell_type": "code",
   "execution_count": null,
   "metadata": {},
   "outputs": [],
   "source": [
    "systolic.describe()"
   ]
  },
  {
   "cell_type": "markdown",
   "metadata": {},
   "source": [
    "------"
   ]
  },
  {
   "cell_type": "markdown",
   "metadata": {},
   "source": [
    "## Sleep"
   ]
  },
  {
   "cell_type": "code",
   "execution_count": null,
   "metadata": {},
   "outputs": [],
   "source": [
    "sleep = pd.read_csv(\"data/SleepAnalysis.csv\")"
   ]
  },
  {
   "cell_type": "code",
   "execution_count": null,
   "metadata": {},
   "outputs": [],
   "source": [
    "sleep.tail()"
   ]
  },
  {
   "cell_type": "code",
   "execution_count": null,
   "metadata": {},
   "outputs": [],
   "source": [
    "sleep.describe()"
   ]
  },
  {
   "cell_type": "code",
   "execution_count": null,
   "metadata": {},
   "outputs": [],
   "source": []
  }
 ],
 "metadata": {
  "kernelspec": {
   "display_name": "Python 3",
   "language": "python",
   "name": "python3"
  },
  "language_info": {
   "codemirror_mode": {
    "name": "ipython",
    "version": 3
   },
   "file_extension": ".py",
   "mimetype": "text/x-python",
   "name": "python",
   "nbconvert_exporter": "python",
   "pygments_lexer": "ipython3",
   "version": "3.7.7"
  }
 },
 "nbformat": 4,
 "nbformat_minor": 2
}
