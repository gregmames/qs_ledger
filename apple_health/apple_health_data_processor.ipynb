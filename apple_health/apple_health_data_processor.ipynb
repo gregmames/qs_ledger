{
 "cells": [
  {
   "cell_type": "markdown",
   "metadata": {},
   "source": [
    "## Apple Health Processor"
   ]
  },
  {
   "cell_type": "markdown",
   "metadata": {},
   "source": [
    "-----"
   ]
  },
  {
   "cell_type": "markdown",
   "metadata": {},
   "source": [
    "## Dependencies and Libraries"
   ]
  },
  {
   "cell_type": "code",
   "execution_count": 1,
   "metadata": {},
   "outputs": [],
   "source": [
    "from datetime import date, datetime, timedelta as td\n",
    "import pytz\n",
    "import numpy as np\n",
    "import pandas as pd\n",
    "import matplotlib.pyplot as plt\n",
    "%matplotlib inline"
   ]
  },
  {
   "cell_type": "markdown",
   "metadata": {},
   "source": [
    "------"
   ]
  },
  {
   "cell_type": "markdown",
   "metadata": {},
   "source": [
    "## Steps"
   ]
  },
  {
   "cell_type": "code",
   "execution_count": 2,
   "metadata": {},
   "outputs": [],
   "source": [
    "steps = pd.read_csv(\"data/StepCount.csv\")"
   ]
  },
  {
   "cell_type": "code",
   "execution_count": 3,
   "metadata": {},
   "outputs": [],
   "source": [
    "# steps.head()"
   ]
  },
  {
   "cell_type": "markdown",
   "metadata": {},
   "source": [
    "### Correct time zone to EST and capture time properties"
   ]
  },
  {
   "cell_type": "code",
   "execution_count": 4,
   "metadata": {},
   "outputs": [],
   "source": [
    "# parse out date and time elements as EST time\n",
    "steps['startDate'] = pd.to_datetime(steps['startDate'], utc=True).dt.tz_convert('EST')\n",
    "steps['endDate'] = pd.to_datetime(steps['endDate'], utc=True).dt.tz_convert('EST')\n",
    "steps['date'] = steps['startDate'].dt.strftime('%Y-%m-%d')\n",
    "steps['year_month'] = steps['startDate'].dt.strftime('%Y-%m')\n",
    "steps['year'] = steps['startDate'].dt.year\n",
    "steps['month'] = steps['startDate'].dt.month\n",
    "steps['day'] = steps['startDate'].dt.day\n",
    "steps['hour'] = steps['startDate'].dt.hour\n",
    "steps['dow'] = steps['startDate'].dt.weekday\n",
    "steps['doy'] = steps['startDate'].dt.dayofyear\n",
    "\n",
    "#drop irrelevant columns\n",
    "steps = steps.drop(['device', 'creationDate'], axis=1)"
   ]
  },
  {
   "cell_type": "code",
   "execution_count": 5,
   "metadata": {},
   "outputs": [],
   "source": [
    "# steps.head()\n",
    "# steps.columns"
   ]
  },
  {
   "cell_type": "markdown",
   "metadata": {},
   "source": [
    "### Use Only Watch Steps, Remove Phone Steps"
   ]
  },
  {
   "cell_type": "code",
   "execution_count": 6,
   "metadata": {},
   "outputs": [
    {
     "data": {
      "text/html": [
       "<div>\n",
       "<style scoped>\n",
       "    .dataframe tbody tr th:only-of-type {\n",
       "        vertical-align: middle;\n",
       "    }\n",
       "\n",
       "    .dataframe tbody tr th {\n",
       "        vertical-align: top;\n",
       "    }\n",
       "\n",
       "    .dataframe thead th {\n",
       "        text-align: right;\n",
       "    }\n",
       "</style>\n",
       "<table border=\"1\" class=\"dataframe\">\n",
       "  <thead>\n",
       "    <tr style=\"text-align: right;\">\n",
       "      <th></th>\n",
       "      <th>sourceName</th>\n",
       "      <th>sourceVersion</th>\n",
       "      <th>type</th>\n",
       "      <th>unit</th>\n",
       "      <th>startDate</th>\n",
       "      <th>endDate</th>\n",
       "      <th>value</th>\n",
       "      <th>date</th>\n",
       "      <th>year_month</th>\n",
       "      <th>year</th>\n",
       "      <th>month</th>\n",
       "      <th>day</th>\n",
       "      <th>hour</th>\n",
       "      <th>dow</th>\n",
       "      <th>doy</th>\n",
       "    </tr>\n",
       "  </thead>\n",
       "  <tbody>\n",
       "    <tr>\n",
       "      <th>6653</th>\n",
       "      <td>Greg’s Apple Watch</td>\n",
       "      <td>4.3</td>\n",
       "      <td>StepCount</td>\n",
       "      <td>count</td>\n",
       "      <td>2018-06-17 15:24:47-05:00</td>\n",
       "      <td>2018-06-17 15:34:45-05:00</td>\n",
       "      <td>119</td>\n",
       "      <td>2018-06-17</td>\n",
       "      <td>2018-06</td>\n",
       "      <td>2018</td>\n",
       "      <td>6</td>\n",
       "      <td>17</td>\n",
       "      <td>15</td>\n",
       "      <td>6</td>\n",
       "      <td>168</td>\n",
       "    </tr>\n",
       "    <tr>\n",
       "      <th>6654</th>\n",
       "      <td>Greg’s Apple Watch</td>\n",
       "      <td>4.3</td>\n",
       "      <td>StepCount</td>\n",
       "      <td>count</td>\n",
       "      <td>2018-06-17 15:34:45-05:00</td>\n",
       "      <td>2018-06-17 15:40:49-05:00</td>\n",
       "      <td>110</td>\n",
       "      <td>2018-06-17</td>\n",
       "      <td>2018-06</td>\n",
       "      <td>2018</td>\n",
       "      <td>6</td>\n",
       "      <td>17</td>\n",
       "      <td>15</td>\n",
       "      <td>6</td>\n",
       "      <td>168</td>\n",
       "    </tr>\n",
       "    <tr>\n",
       "      <th>6655</th>\n",
       "      <td>Greg’s Apple Watch</td>\n",
       "      <td>4.3</td>\n",
       "      <td>StepCount</td>\n",
       "      <td>count</td>\n",
       "      <td>2018-06-17 15:58:58-05:00</td>\n",
       "      <td>2018-06-17 15:59:59-05:00</td>\n",
       "      <td>67</td>\n",
       "      <td>2018-06-17</td>\n",
       "      <td>2018-06</td>\n",
       "      <td>2018</td>\n",
       "      <td>6</td>\n",
       "      <td>17</td>\n",
       "      <td>15</td>\n",
       "      <td>6</td>\n",
       "      <td>168</td>\n",
       "    </tr>\n",
       "    <tr>\n",
       "      <th>6656</th>\n",
       "      <td>Greg’s Apple Watch</td>\n",
       "      <td>4.3</td>\n",
       "      <td>StepCount</td>\n",
       "      <td>count</td>\n",
       "      <td>2018-06-17 15:59:59-05:00</td>\n",
       "      <td>2018-06-17 16:01:01-05:00</td>\n",
       "      <td>111</td>\n",
       "      <td>2018-06-17</td>\n",
       "      <td>2018-06</td>\n",
       "      <td>2018</td>\n",
       "      <td>6</td>\n",
       "      <td>17</td>\n",
       "      <td>15</td>\n",
       "      <td>6</td>\n",
       "      <td>168</td>\n",
       "    </tr>\n",
       "    <tr>\n",
       "      <th>6657</th>\n",
       "      <td>Greg’s Apple Watch</td>\n",
       "      <td>4.3</td>\n",
       "      <td>StepCount</td>\n",
       "      <td>count</td>\n",
       "      <td>2018-06-17 16:01:01-05:00</td>\n",
       "      <td>2018-06-17 16:02:02-05:00</td>\n",
       "      <td>83</td>\n",
       "      <td>2018-06-17</td>\n",
       "      <td>2018-06</td>\n",
       "      <td>2018</td>\n",
       "      <td>6</td>\n",
       "      <td>17</td>\n",
       "      <td>16</td>\n",
       "      <td>6</td>\n",
       "      <td>168</td>\n",
       "    </tr>\n",
       "  </tbody>\n",
       "</table>\n",
       "</div>"
      ],
      "text/plain": [
       "              sourceName sourceVersion       type   unit  \\\n",
       "6653  Greg’s Apple Watch           4.3  StepCount  count   \n",
       "6654  Greg’s Apple Watch           4.3  StepCount  count   \n",
       "6655  Greg’s Apple Watch           4.3  StepCount  count   \n",
       "6656  Greg’s Apple Watch           4.3  StepCount  count   \n",
       "6657  Greg’s Apple Watch           4.3  StepCount  count   \n",
       "\n",
       "                     startDate                   endDate  value        date  \\\n",
       "6653 2018-06-17 15:24:47-05:00 2018-06-17 15:34:45-05:00    119  2018-06-17   \n",
       "6654 2018-06-17 15:34:45-05:00 2018-06-17 15:40:49-05:00    110  2018-06-17   \n",
       "6655 2018-06-17 15:58:58-05:00 2018-06-17 15:59:59-05:00     67  2018-06-17   \n",
       "6656 2018-06-17 15:59:59-05:00 2018-06-17 16:01:01-05:00    111  2018-06-17   \n",
       "6657 2018-06-17 16:01:01-05:00 2018-06-17 16:02:02-05:00     83  2018-06-17   \n",
       "\n",
       "     year_month  year  month  day  hour  dow  doy  \n",
       "6653    2018-06  2018      6   17    15    6  168  \n",
       "6654    2018-06  2018      6   17    15    6  168  \n",
       "6655    2018-06  2018      6   17    15    6  168  \n",
       "6656    2018-06  2018      6   17    15    6  168  \n",
       "6657    2018-06  2018      6   17    16    6  168  "
      ]
     },
     "execution_count": 6,
     "metadata": {},
     "output_type": "execute_result"
    }
   ],
   "source": [
    "# drop phone steps ---NEED TO CHANGE THIS TO KEEP PHONE STEPS BEFORE THE WATCH\n",
    "steps = steps[steps.sourceName == 'Greg’s Apple\\xa0Watch']\n",
    "steps.head()"
   ]
  },
  {
   "cell_type": "markdown",
   "metadata": {},
   "source": [
    "### Merge Fitbit data"
   ]
  },
  {
   "cell_type": "code",
   "execution_count": 7,
   "metadata": {},
   "outputs": [
    {
     "ename": "NameError",
     "evalue": "name 'read_csv' is not defined",
     "output_type": "error",
     "traceback": [
      "\u001b[0;31m---------------------------------------------------------------------------\u001b[0m",
      "\u001b[0;31mNameError\u001b[0m                                 Traceback (most recent call last)",
      "\u001b[0;32m<ipython-input-7-e5a504cdc393>\u001b[0m in \u001b[0;36m<module>\u001b[0;34m\u001b[0m\n\u001b[1;32m      1\u001b[0m \u001b[0;31m# Reade fitbit csv\u001b[0m\u001b[0;34m\u001b[0m\u001b[0;34m\u001b[0m\u001b[0;34m\u001b[0m\u001b[0m\n\u001b[0;32m----> 2\u001b[0;31m \u001b[0mfb\u001b[0m \u001b[0;34m=\u001b[0m \u001b[0mread_csv\u001b[0m\u001b[0;34m(\u001b[0m\u001b[0;34m'XXXXXXXXXX.csv'\u001b[0m\u001b[0;34m)\u001b[0m\u001b[0;34m\u001b[0m\u001b[0;34m\u001b[0m\u001b[0m\n\u001b[0m",
      "\u001b[0;31mNameError\u001b[0m: name 'read_csv' is not defined"
     ]
    }
   ],
   "source": [
    "# # Reade fitbit csv\n",
    "# fb = read_csv('XXXXXXXXXX.csv')"
   ]
  },
  {
   "cell_type": "markdown",
   "metadata": {},
   "source": [
    "-----"
   ]
  },
  {
   "cell_type": "markdown",
   "metadata": {},
   "source": [
    "## Rolling Average"
   ]
  },
  {
   "cell_type": "code",
   "execution_count": 29,
   "metadata": {},
   "outputs": [
    {
     "data": {
      "text/html": [
       "<div>\n",
       "<style scoped>\n",
       "    .dataframe tbody tr th:only-of-type {\n",
       "        vertical-align: middle;\n",
       "    }\n",
       "\n",
       "    .dataframe tbody tr th {\n",
       "        vertical-align: top;\n",
       "    }\n",
       "\n",
       "    .dataframe thead th {\n",
       "        text-align: right;\n",
       "    }\n",
       "</style>\n",
       "<table border=\"1\" class=\"dataframe\">\n",
       "  <thead>\n",
       "    <tr style=\"text-align: right;\">\n",
       "      <th></th>\n",
       "      <th>date</th>\n",
       "      <th>Steps</th>\n",
       "    </tr>\n",
       "  </thead>\n",
       "  <tbody>\n",
       "    <tr>\n",
       "      <th>0</th>\n",
       "      <td>2018-06-17</td>\n",
       "      <td>10383</td>\n",
       "    </tr>\n",
       "    <tr>\n",
       "      <th>1</th>\n",
       "      <td>2018-06-18</td>\n",
       "      <td>12786</td>\n",
       "    </tr>\n",
       "    <tr>\n",
       "      <th>2</th>\n",
       "      <td>2018-06-19</td>\n",
       "      <td>16237</td>\n",
       "    </tr>\n",
       "    <tr>\n",
       "      <th>3</th>\n",
       "      <td>2018-06-20</td>\n",
       "      <td>18957</td>\n",
       "    </tr>\n",
       "    <tr>\n",
       "      <th>4</th>\n",
       "      <td>2018-06-21</td>\n",
       "      <td>15422</td>\n",
       "    </tr>\n",
       "  </tbody>\n",
       "</table>\n",
       "</div>"
      ],
      "text/plain": [
       "         date  Steps\n",
       "0  2018-06-17  10383\n",
       "1  2018-06-18  12786\n",
       "2  2018-06-19  16237\n",
       "3  2018-06-20  18957\n",
       "4  2018-06-21  15422"
      ]
     },
     "execution_count": 29,
     "metadata": {},
     "output_type": "execute_result"
    }
   ],
   "source": [
    "steps_by_date = steps.groupby(['date'])['value'].sum().reset_index(name='Steps')\n",
    "steps_by_date.head()"
   ]
  },
  {
   "cell_type": "code",
   "execution_count": 54,
   "metadata": {},
   "outputs": [
    {
     "data": {
      "image/png": "[encoded data removed]",
      "text/plain": [
       "<Figure size 864x360 with 1 Axes>"
      ]
     },
     "metadata": {
      "needs_background": "light"
     },
     "output_type": "display_data"
    }
   ],
   "source": [
    "steps_by_date['RollingMeanSteps'] = steps_by_date.Steps.rolling(window=7, center=True).mean()\n",
    "\n",
    "chart_title = 'Daily Steps w/ 7-Day Rolling Average'\n",
    "\n",
    "# n_groups = len(dataset)\n",
    "# index = np.arange(n_groups)\n",
    "\n",
    "ax = steps_by_date.plot.scatter(x='date', y='Steps', alpha=1, marker='.', color='r', figsize=[12, 5])\n",
    "\n",
    "# plt.plot(steps_by_date.date, steps_by_date.Steps,'r.',alpha=0.3,ms=4)#, kind='scatter', linewidth=4, alpha=1, marker='.')#, color='#6684c1', \n",
    "                      #markeredgecolor='#6684c1', markerfacecolor='w', markersize=8, markeredgewidth=2)\n",
    "\n",
    "# ax = dataset.plot(kind='line', figsize=[10, 6], linewidth=4, alpha=1, marker='o', color='#6684c1', \n",
    "#                       markeredgecolor='#6684c1', markerfacecolor='w', markersize=8, markeredgewidth=2)    \n",
    "    \n",
    "# # ax.set_xlim((year_counts.index[0], year_counts.index[-1]))\n",
    "\n",
    "ax.yaxis.grid(True)\n",
    "# ax.xaxis.grid(True)\n",
    "# # ax.set_ylim(0, 1000)\n",
    "# ax.set_xticks(index)\n",
    "ax.set_ylabel('Step Count')\n",
    "# # ax.set_xlabel('')\n",
    "# plt.xticks(index, dataset.year_month, rotation=90)\n",
    "ax.set_title(chart_title)\n",
    "\n",
    "plt.show()"
   ]
  },
  {
   "cell_type": "code",
   "execution_count": 9,
   "metadata": {},
   "outputs": [],
   "source": [
    "# # steps_by_date.tail(10)\n",
    "# steps_by_date.to_csv(\"data/steps_per_day.csv\", index=False)"
   ]
  },
  {
   "cell_type": "code",
   "execution_count": 10,
   "metadata": {},
   "outputs": [
    {
     "data": {
      "text/plain": [
       "<matplotlib.axes._subplots.AxesSubplot at 0x10c17b190>"
      ]
     },
     "execution_count": 10,
     "metadata": {},
     "output_type": "execute_result"
    },
    {
     "data": {
      "image/png": "[encoded data removed]",
      "text/plain": [
       "<Figure size 720x432 with 1 Axes>"
      ]
     },
     "metadata": {
      "needs_background": "light"
     },
     "output_type": "display_data"
    }
   ],
   "source": [
    "steps_by_date['RollingMeanSteps'] = steps_by_date.Steps.rolling(window=7, center=True).mean()\n",
    "steps_by_date.plot(x='date', y='RollingMeanSteps', title= 'Daily step counts rolling mean over 7 days', figsize=[10, 6])"
   ]
  },
  {
   "cell_type": "markdown",
   "metadata": {},
   "source": [
    "## Steps by Day of Week"
   ]
  },
  {
   "cell_type": "code",
   "execution_count": null,
   "metadata": {},
   "outputs": [],
   "source": [
    "# steps_by_date['date'] = pd.to_datetime(steps_by_date['date'])\n",
    "# steps_by_date['dow'] = steps_by_date['date'].dt.weekday"
   ]
  },
  {
   "cell_type": "code",
   "execution_count": null,
   "metadata": {},
   "outputs": [],
   "source": [
    "# data = steps_by_date.groupby(['dow'])['Steps'].mean()\n",
    "\n",
    "# fig, ax = plt.subplots(figsize=[10, 6])\n",
    "# ax = data.plot(kind='bar', x='day_of_week')\n",
    "\n",
    "# n_groups = len(data)\n",
    "# index = np.arange(n_groups)\n",
    "# opacity = 0.75\n",
    "\n",
    "# #fig, ax = plt.subplots(figsize=[10, 6])\n",
    "# ax.yaxis.grid(True)\n",
    "\n",
    "# plt.suptitle('Average Steps by Day of the Week', fontsize=16)\n",
    "# dow_labels = ['Monday', 'Tuesday', 'Wednesday', 'Thursday', 'Friday', 'Saturday', 'Sunday']\n",
    "# plt.xticks(index, dow_labels, rotation=45)\n",
    "# plt.xlabel('Day of Week', fontsize=12, color='red')"
   ]
  },
  {
   "cell_type": "markdown",
   "metadata": {},
   "source": [
    "------"
   ]
  },
  {
   "cell_type": "markdown",
   "metadata": {},
   "source": [
    "## Monthly Steps"
   ]
  },
  {
   "cell_type": "code",
   "execution_count": 24,
   "metadata": {},
   "outputs": [
    {
     "data": {
      "image/png": "[encoded data removed]",
      "text/plain": [
       "<Figure size 864x360 with 1 Axes>"
      ]
     },
     "metadata": {
      "needs_background": "light"
     },
     "output_type": "display_data"
    }
   ],
   "source": [
    "# Group data by month accross years\n",
    "dataset = steps.groupby(['year_month'])['value'].sum().reset_index(name='Steps')\n",
    "chart_title = 'Number of Steps per month'\n",
    "\n",
    "n_groups = len(dataset)\n",
    "index = np.arange(n_groups)\n",
    "\n",
    "ax = dataset.plot(kind='line', figsize=[12, 5], linewidth=4, alpha=1, marker='o', color='#6684c1', \n",
    "                      markeredgecolor='#6684c1', markerfacecolor='w', markersize=8, markeredgewidth=2)\n",
    "\n",
    "# ax.set_xlim((year_counts.index[0], year_counts.index[-1]))\n",
    "\n",
    "ax.yaxis.grid(True)\n",
    "ax.xaxis.grid(True)\n",
    "# ax.set_ylim(0, 1000)\n",
    "ax.set_xticks(index)\n",
    "ax.set_ylabel('Step Count')\n",
    "# ax.set_xlabel('')\n",
    "plt.xticks(index, dataset.year_month, rotation=90)\n",
    "ax.set_title(chart_title)\n",
    "\n",
    "plt.show()"
   ]
  },
  {
   "cell_type": "code",
   "execution_count": 26,
   "metadata": {},
   "outputs": [],
   "source": [
    "# total_steps_by_month = steps.groupby(['year','month'])['value'].sum().reset_index(name='Steps')"
   ]
  },
  {
   "cell_type": "code",
   "execution_count": 25,
   "metadata": {},
   "outputs": [],
   "source": [
    "# total_steps_by_month"
   ]
  },
  {
   "cell_type": "code",
   "execution_count": 22,
   "metadata": {},
   "outputs": [
    {
     "data": {
      "image/png": "[encoded data removed]",
      "text/plain": [
       "<Figure size 864x360 with 1 Axes>"
      ]
     },
     "metadata": {
      "needs_background": "light"
     },
     "output_type": "display_data"
    }
   ],
   "source": [
    "# Group data by year in pivot table\n",
    "dataset = pd.pivot_table(total_steps_by_month, index='month', columns='year', values='Steps', aggfunc='sum')\n",
    "chart_title = 'Number of Steps per month'\n",
    "\n",
    "n_groups = len(dataset)\n",
    "index = np.arange(n_groups)\n",
    "\n",
    "ax = dataset.plot(kind='line', figsize=[12, 5], linewidth=4, alpha=1, marker='o', \n",
    "                      markeredgecolor='#6684c1', markerfacecolor='w', markersize=8, markeredgewidth=2)\n",
    "\n",
    "# ax.set_xlim((year_counts.index[0], year_counts.index[-1]))\n",
    "\n",
    "ax.yaxis.grid(True)\n",
    "ax.xaxis.grid(True)\n",
    "# ax.set_ylim(0, 1000)\n",
    "ax.set_xticks(index)\n",
    "ax.set_ylabel('Step Count')\n",
    "# ax.set_xlabel('')\n",
    "# plt.xticks(index, dataset.month, rotation=90)\n",
    "ax.set_title(chart_title)\n",
    "\n",
    "plt.show()"
   ]
  },
  {
   "cell_type": "markdown",
   "metadata": {},
   "source": [
    "----"
   ]
  },
  {
   "cell_type": "markdown",
   "metadata": {},
   "source": [
    "## Steps Per Year"
   ]
  },
  {
   "cell_type": "code",
   "execution_count": null,
   "metadata": {},
   "outputs": [],
   "source": [
    "# total_steps_by_years = steps.groupby(['year'])['value'].sum().reset_index(name='Steps')"
   ]
  },
  {
   "cell_type": "code",
   "execution_count": null,
   "metadata": {},
   "outputs": [],
   "source": [
    "# total_steps_by_years"
   ]
  },
  {
   "cell_type": "code",
   "execution_count": null,
   "metadata": {},
   "outputs": [],
   "source": [
    "# dataset = total_steps_by_years\n",
    "\n",
    "# n_groups = len(dataset)\n",
    "# opacity = 0.5\n",
    "# fig, ax = plt.subplots(figsize=[10, 6])\n",
    "# ax.yaxis.grid(True)\n",
    "# index = np.arange(n_groups)\n",
    "# bar_width = 0.4\n",
    "\n",
    "# data = plt.bar(index, dataset.Steps, bar_width,\n",
    "#                  alpha=opacity,\n",
    "#                  color='c',\n",
    "#                  label='Steps')\n",
    "\n",
    "# data[-1].set_color('r')\n",
    "\n",
    "# plt.ylabel('Steps')\n",
    "# plt.title('Total Steps Per Year')\n",
    "# plt.xticks(index, dataset.year, rotation=45)\n",
    "# plt.legend()\n",
    "\n",
    "# plt.tight_layout()\n",
    "# plt.show()"
   ]
  },
  {
   "cell_type": "markdown",
   "metadata": {},
   "source": [
    "-----"
   ]
  },
  {
   "cell_type": "markdown",
   "metadata": {},
   "source": [
    "## Steps by Hour of Day"
   ]
  },
  {
   "cell_type": "code",
   "execution_count": null,
   "metadata": {},
   "outputs": [],
   "source": [
    "# hour_steps = steps.groupby(['hour'])['value'].sum().reset_index(name='Steps')"
   ]
  },
  {
   "cell_type": "code",
   "execution_count": null,
   "metadata": {},
   "outputs": [],
   "source": [
    "# hour_steps"
   ]
  },
  {
   "cell_type": "code",
   "execution_count": null,
   "metadata": {},
   "outputs": [],
   "source": [
    "# ax = hour_steps.Steps.plot(kind='line', figsize=[10, 5], linewidth=4, alpha=1, marker='o', color='#6684c1', \n",
    "#                       markeredgecolor='#6684c1', markerfacecolor='w', markersize=8, markeredgewidth=2)\n",
    "\n",
    "# xlabels = hour_steps.index.map(lambda x: '{:02}:00'.format(x))\n",
    "# ax.set_xticks(range(len(xlabels)))\n",
    "# ax.set_xticklabels(xlabels, rotation=45, rotation_mode='anchor', ha='right')\n",
    "\n",
    "# # ax.set_xlim((hour_steps.index[0], hour_steps.index[-1]))\n",
    "\n",
    "# ax.yaxis.grid(True)\n",
    "# # ax.set_ylim((0, 1300))\n",
    "# ax.set_ylabel('Steps')\n",
    "# ax.set_xlabel('')\n",
    "# ax.set_title('Steps by hour the day')\n",
    "\n",
    "# plt.show()"
   ]
  },
  {
   "cell_type": "markdown",
   "metadata": {},
   "source": [
    "-----"
   ]
  },
  {
   "cell_type": "markdown",
   "metadata": {},
   "source": [
    "## Weight Data"
   ]
  },
  {
   "cell_type": "code",
   "execution_count": null,
   "metadata": {},
   "outputs": [],
   "source": [
    "weight = pd.read_csv(\"data/BodyMass.csv\")"
   ]
  },
  {
   "cell_type": "code",
   "execution_count": null,
   "metadata": {},
   "outputs": [],
   "source": [
    "# weight.columns"
   ]
  },
  {
   "cell_type": "code",
   "execution_count": null,
   "metadata": {},
   "outputs": [],
   "source": [
    "# parse out date and time elements as EST time\n",
    "weight['startDate'] = pd.to_datetime(weight['startDate'], utc=True).dt.tz_convert('EST')\n",
    "weight['endDate'] = pd.to_datetime(weight['endDate'], utc=True).dt.tz_convert('EST')\n",
    "weight['year'] = weight['startDate'].dt.year\n",
    "weight['month'] = weight['startDate'].dt.strftime('%Y-%m')\n",
    "weight['date'] = weight['startDate'].dt.strftime('%Y-%m-%d')\n",
    "weight['day'] = weight['startDate'].dt.day\n",
    "weight['hour'] = weight['startDate'].dt.hour\n",
    "weight['dow'] = weight['startDate'].dt.weekday\n",
    "\n",
    "weight.drop(['device', 'creationDate'], axis=1)"
   ]
  },
  {
   "cell_type": "code",
   "execution_count": null,
   "metadata": {},
   "outputs": [],
   "source": [
    "weight.tail()"
   ]
  },
  {
   "cell_type": "code",
   "execution_count": null,
   "metadata": {},
   "outputs": [],
   "source": [
    "month_weight = weight.groupby(['month'])['value'].mean().reset_index(name='Weight')"
   ]
  },
  {
   "cell_type": "code",
   "execution_count": null,
   "metadata": {},
   "outputs": [],
   "source": [
    "month_weight"
   ]
  },
  {
   "cell_type": "code",
   "execution_count": null,
   "metadata": {},
   "outputs": [],
   "source": [
    "# a bit of a hackish solution, could use improvement\n",
    "dataset = month_weight\n",
    "chart_title = 'Monthly Weight'\n",
    "\n",
    "n_groups = len(dataset)\n",
    "index = np.arange(n_groups)\n",
    "\n",
    "ax = dataset.plot(kind='line', figsize=[12, 5], linewidth=4, alpha=1, marker='o', color='#6684c1', \n",
    "                      markeredgecolor='#6684c1', markerfacecolor='w', markersize=8, markeredgewidth=2)\n",
    "\n",
    "# ax.set_xlim((year_counts.index[0], year_counts.index[-1]))\n",
    "\n",
    "ax.yaxis.grid(True)\n",
    "ax.xaxis.grid(True)\n",
    "# ax.set_ylim(0, 1000)\n",
    "ax.set_xticks(index)\n",
    "ax.set_ylabel('Weight (lbs)')\n",
    "plt.xticks(index, dataset.month, rotation=90)\n",
    "ax.set_title(chart_title)\n",
    "\n",
    "plt.show()"
   ]
  },
  {
   "cell_type": "code",
   "execution_count": null,
   "metadata": {},
   "outputs": [],
   "source": [
    "# # convert to kg\n",
    "# month_weight['kg'] = round(month_weight['Weight'] / 2.205, 2)"
   ]
  },
  {
   "cell_type": "code",
   "execution_count": null,
   "metadata": {},
   "outputs": [],
   "source": [
    "# month_weight.columns"
   ]
  },
  {
   "cell_type": "code",
   "execution_count": null,
   "metadata": {},
   "outputs": [],
   "source": [
    "# # a bit of a hackish solution, could use improvement\n",
    "# dataset = month_weight[['month', 'kg']]\n",
    "# chart_title = 'Monthly Weight'\n",
    "\n",
    "# n_groups = len(dataset)\n",
    "# index = np.arange(n_groups)\n",
    "\n",
    "# ax = dataset.plot(kind='line', figsize=[12, 5], linewidth=4, alpha=1, marker='o', color='#6684c1', \n",
    "#                       markeredgecolor='#6684c1', markerfacecolor='w', markersize=8, markeredgewidth=2)\n",
    "\n",
    "# # ax.set_xlim((year_counts.index[0], year_counts.index[-1]))\n",
    "\n",
    "# ax.yaxis.grid(True)\n",
    "# ax.xaxis.grid(True)\n",
    "# # ax.set_ylim(0, 1000)\n",
    "# ax.set_xticks(index)\n",
    "# ax.set_ylabel('Weight (kg)')\n",
    "# plt.xticks(index, dataset.month, rotation=90)\n",
    "# ax.set_title(chart_title)\n",
    "\n",
    "# plt.show()"
   ]
  },
  {
   "cell_type": "markdown",
   "metadata": {},
   "source": [
    "## Heart Rate"
   ]
  },
  {
   "cell_type": "code",
   "execution_count": null,
   "metadata": {},
   "outputs": [],
   "source": [
    "resting = pd.read_csv(\"data/RestingHeartRate.csv\")\n",
    "len(resting)"
   ]
  },
  {
   "cell_type": "code",
   "execution_count": null,
   "metadata": {},
   "outputs": [],
   "source": [
    "resting.columns"
   ]
  },
  {
   "cell_type": "code",
   "execution_count": null,
   "metadata": {},
   "outputs": [],
   "source": [
    "resting.sourceName.unique()"
   ]
  },
  {
   "cell_type": "code",
   "execution_count": null,
   "metadata": {},
   "outputs": [],
   "source": [
    "# # parse out date and time elements as EST time\n",
    "# resting['startDate'] = pd.to_datetime(resting['startDate'])\n",
    "# resting['year'] = resting['startDate'].map(get_year)\n",
    "# resting['month'] = resting['startDate'].map(get_month)\n",
    "# resting['date'] = resting['startDate'].map(get_date)\n",
    "\n",
    "# parse out date and time elements as EST time\n",
    "resting['startDate'] = pd.to_datetime(resting['startDate'], utc=True).dt.tz_convert('EST')\n",
    "resting['endDate'] = pd.to_datetime(resting['endDate'], utc=True).dt.tz_convert('EST')\n",
    "resting['year'] = resting['startDate'].dt.year\n",
    "resting['month'] = resting['startDate'].dt.strftime('%Y-%m')\n",
    "resting['date'] = resting['startDate'].dt.strftime('%Y-%m-%d')\n",
    "resting['day'] = resting['startDate'].dt.day\n",
    "resting['hour'] = resting['startDate'].dt.hour\n",
    "resting['dow'] = resting['startDate'].dt.weekday\n",
    "\n",
    "resting.drop(['device', 'creationDate'], axis=1)"
   ]
  },
  {
   "cell_type": "code",
   "execution_count": null,
   "metadata": {},
   "outputs": [],
   "source": [
    "# resting.tail(10)"
   ]
  },
  {
   "cell_type": "code",
   "execution_count": null,
   "metadata": {},
   "outputs": [],
   "source": [
    "resting[resting.month == '2019-08'].plot(x='date', y='value', title= 'Resting HR', figsize=[10, 6])"
   ]
  },
  {
   "cell_type": "code",
   "execution_count": null,
   "metadata": {},
   "outputs": [],
   "source": [
    "hr = pd.read_csv(\"data/HeartRate.csv\")\n",
    "len(hr)"
   ]
  },
  {
   "cell_type": "code",
   "execution_count": null,
   "metadata": {},
   "outputs": [],
   "source": [
    "# hr.tail(10)"
   ]
  },
  {
   "cell_type": "code",
   "execution_count": null,
   "metadata": {},
   "outputs": [],
   "source": [
    "# # parse out date and time elements as EST time\n",
    "# hr['startDate'] = pd.to_datetime(hr['startDate'])\n",
    "# hr['year'] = hr['startDate'].map(get_year)\n",
    "# hr['month'] = hr['startDate'].map(get_month)\n",
    "# hr['hour'] = hr['startDate'].map(get_hour)\n",
    "# hr['date'] = hr['startDate'].map(get_date)\n",
    "\n",
    "\n",
    "# parse out date and time elements as EST time\n",
    "hr['startDate'] = pd.to_datetime(hr['startDate'], utc=True).dt.tz_convert('EST')\n",
    "hr['endDate'] = pd.to_datetime(hr['endDate'], utc=True).dt.tz_convert('EST')\n",
    "hr['year'] = hr['startDate'].dt.year\n",
    "hr['month'] = hr['startDate'].dt.strftime('%Y-%m')\n",
    "hr['date'] = hr['startDate'].dt.strftime('%Y-%m-%d')\n",
    "hr['day'] = hr['startDate'].dt.day\n",
    "hr['hour'] = hr['startDate'].dt.hour\n",
    "hr['dow'] = hr['startDate'].dt.weekday\n",
    "\n",
    "hr.drop(['device', 'creationDate'], axis=1)"
   ]
  },
  {
   "cell_type": "code",
   "execution_count": null,
   "metadata": {},
   "outputs": [],
   "source": [
    "# plot a single day\n",
    "test_date = '2019-08-28'\n",
    "# len(hr[hr.date == test_date])\n",
    "# TODO: Fix Axis for Hour of Day or Something Similar\n",
    "hr[hr.date == test_date].plot(x='startDate', y='value', title= 'HR', figsize=[10, 6])"
   ]
  },
  {
   "cell_type": "code",
   "execution_count": null,
   "metadata": {},
   "outputs": [],
   "source": []
  },
  {
   "cell_type": "markdown",
   "metadata": {},
   "source": [
    "------"
   ]
  }
 ],
 "metadata": {
  "kernelspec": {
   "display_name": "Python 3",
   "language": "python",
   "name": "python3"
  },
  "language_info": {
   "codemirror_mode": {
    "name": "ipython",
    "version": 3
   },
   "file_extension": ".py",
   "mimetype": "text/x-python",
   "name": "python",
   "nbconvert_exporter": "python",
   "pygments_lexer": "ipython3",
   "version": "3.7.7"
  }
 },
 "nbformat": 4,
 "nbformat_minor": 2
}
